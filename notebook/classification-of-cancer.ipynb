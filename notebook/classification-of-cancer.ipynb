{
 "cells": [
  {
   "cell_type": "code",
   "execution_count": 1,
   "metadata": {
    "execution": {
     "iopub.execute_input": "2023-12-19T20:07:51.388947Z",
     "iopub.status.busy": "2023-12-19T20:07:51.387667Z",
     "iopub.status.idle": "2023-12-19T20:07:53.412456Z",
     "shell.execute_reply": "2023-12-19T20:07:53.412999Z",
     "shell.execute_reply.started": "2023-12-19T19:22:27.746416Z"
    },
    "papermill": {
     "duration": 2.068728,
     "end_time": "2023-12-19T20:07:53.413210",
     "exception": false,
     "start_time": "2023-12-19T20:07:51.344482",
     "status": "completed"
    },
    "tags": []
   },
   "outputs": [],
   "source": [
    "import pandas as pd\n",
    "import numpy as np\n",
    "import matplotlib.pyplot as plt\n",
    "\n",
    "from sklearn.neighbors import KNeighborsClassifier\n",
    "from sklearn.ensemble import RandomForestClassifier\n",
    "from sklearn.svm import SVC\n",
    "from sklearn.linear_model import LogisticRegression\n",
    "from sklearn.tree import DecisionTreeClassifier\n",
    "import xgboost as xgb\n",
    "\n",
    "from sklearn.model_selection import train_test_split\n",
    "from sklearn.model_selection import GridSearchCV\n",
    "\n",
    "from sklearn.metrics import recall_score, precision_score, classification_report,accuracy_score,confusion_matrix, roc_curve, auc, roc_curve,accuracy_score,plot_confusion_matrix\n",
    "from sklearn.preprocessing import StandardScaler, normalize\n",
    "from sklearn.decomposition import PCA\n",
    "from scipy import ndimage\n",
    "import seaborn as sns"
   ]
  },
  {
   "cell_type": "markdown",
   "metadata": {
    "papermill": {
     "duration": 0.03364,
     "end_time": "2023-12-19T20:07:53.481454",
     "exception": false,
     "start_time": "2023-12-19T20:07:53.447814",
     "status": "completed"
    },
    "tags": []
   },
   "source": [
    "### Load dataset"
   ]
  },
  {
   "cell_type": "code",
   "execution_count": 2,
   "metadata": {
    "execution": {
     "iopub.execute_input": "2023-12-19T20:07:53.555030Z",
     "iopub.status.busy": "2023-12-19T20:07:53.554337Z",
     "iopub.status.idle": "2023-12-19T20:07:53.809494Z",
     "shell.execute_reply": "2023-12-19T20:07:53.810034Z",
     "shell.execute_reply.started": "2023-12-19T19:22:27.758954Z"
    },
    "papermill": {
     "duration": 0.293526,
     "end_time": "2023-12-19T20:07:53.810230",
     "exception": false,
     "start_time": "2023-12-19T20:07:53.516704",
     "status": "completed"
    },
    "tags": []
   },
   "outputs": [],
   "source": [
    "#Load dataset\n",
    "Train_Data = pd.read_csv(\"../input/gene-expression/data_set_ALL_AML_train.csv\")\n",
    "Test_Data = pd.read_csv(\"../input/gene-expression/data_set_ALL_AML_independent.csv\")\n",
    "labels = pd.read_csv(\"../input/gene-expression/actual.csv\", index_col = 'patient')"
   ]
  },
  {
   "cell_type": "code",
   "execution_count": 3,
   "metadata": {
    "execution": {
     "iopub.execute_input": "2023-12-19T20:07:53.881783Z",
     "iopub.status.busy": "2023-12-19T20:07:53.881124Z",
     "iopub.status.idle": "2023-12-19T20:07:53.918380Z",
     "shell.execute_reply": "2023-12-19T20:07:53.917813Z",
     "shell.execute_reply.started": "2023-12-19T19:22:27.996604Z"
    },
    "papermill": {
     "duration": 0.07416,
     "end_time": "2023-12-19T20:07:53.918510",
     "exception": false,
     "start_time": "2023-12-19T20:07:53.844350",
     "status": "completed"
    },
    "tags": []
   },
   "outputs": [
    {
     "data": {
      "text/html": [
       "<div>\n",
       "<style scoped>\n",
       "    .dataframe tbody tr th:only-of-type {\n",
       "        vertical-align: middle;\n",
       "    }\n",
       "\n",
       "    .dataframe tbody tr th {\n",
       "        vertical-align: top;\n",
       "    }\n",
       "\n",
       "    .dataframe thead th {\n",
       "        text-align: right;\n",
       "    }\n",
       "</style>\n",
       "<table border=\"1\" class=\"dataframe\">\n",
       "  <thead>\n",
       "    <tr style=\"text-align: right;\">\n",
       "      <th></th>\n",
       "      <th>Gene Description</th>\n",
       "      <th>Gene Accession Number</th>\n",
       "      <th>1</th>\n",
       "      <th>call</th>\n",
       "      <th>2</th>\n",
       "      <th>call.1</th>\n",
       "      <th>3</th>\n",
       "      <th>call.2</th>\n",
       "      <th>4</th>\n",
       "      <th>call.3</th>\n",
       "      <th>...</th>\n",
       "      <th>29</th>\n",
       "      <th>call.33</th>\n",
       "      <th>30</th>\n",
       "      <th>call.34</th>\n",
       "      <th>31</th>\n",
       "      <th>call.35</th>\n",
       "      <th>32</th>\n",
       "      <th>call.36</th>\n",
       "      <th>33</th>\n",
       "      <th>call.37</th>\n",
       "    </tr>\n",
       "  </thead>\n",
       "  <tbody>\n",
       "    <tr>\n",
       "      <th>0</th>\n",
       "      <td>AFFX-BioB-5_at (endogenous control)</td>\n",
       "      <td>AFFX-BioB-5_at</td>\n",
       "      <td>-214</td>\n",
       "      <td>A</td>\n",
       "      <td>-139</td>\n",
       "      <td>A</td>\n",
       "      <td>-76</td>\n",
       "      <td>A</td>\n",
       "      <td>-135</td>\n",
       "      <td>A</td>\n",
       "      <td>...</td>\n",
       "      <td>15</td>\n",
       "      <td>A</td>\n",
       "      <td>-318</td>\n",
       "      <td>A</td>\n",
       "      <td>-32</td>\n",
       "      <td>A</td>\n",
       "      <td>-124</td>\n",
       "      <td>A</td>\n",
       "      <td>-135</td>\n",
       "      <td>A</td>\n",
       "    </tr>\n",
       "    <tr>\n",
       "      <th>1</th>\n",
       "      <td>AFFX-BioB-M_at (endogenous control)</td>\n",
       "      <td>AFFX-BioB-M_at</td>\n",
       "      <td>-153</td>\n",
       "      <td>A</td>\n",
       "      <td>-73</td>\n",
       "      <td>A</td>\n",
       "      <td>-49</td>\n",
       "      <td>A</td>\n",
       "      <td>-114</td>\n",
       "      <td>A</td>\n",
       "      <td>...</td>\n",
       "      <td>-114</td>\n",
       "      <td>A</td>\n",
       "      <td>-192</td>\n",
       "      <td>A</td>\n",
       "      <td>-49</td>\n",
       "      <td>A</td>\n",
       "      <td>-79</td>\n",
       "      <td>A</td>\n",
       "      <td>-186</td>\n",
       "      <td>A</td>\n",
       "    </tr>\n",
       "    <tr>\n",
       "      <th>2</th>\n",
       "      <td>AFFX-BioB-3_at (endogenous control)</td>\n",
       "      <td>AFFX-BioB-3_at</td>\n",
       "      <td>-58</td>\n",
       "      <td>A</td>\n",
       "      <td>-1</td>\n",
       "      <td>A</td>\n",
       "      <td>-307</td>\n",
       "      <td>A</td>\n",
       "      <td>265</td>\n",
       "      <td>A</td>\n",
       "      <td>...</td>\n",
       "      <td>2</td>\n",
       "      <td>A</td>\n",
       "      <td>-95</td>\n",
       "      <td>A</td>\n",
       "      <td>49</td>\n",
       "      <td>A</td>\n",
       "      <td>-37</td>\n",
       "      <td>A</td>\n",
       "      <td>-70</td>\n",
       "      <td>A</td>\n",
       "    </tr>\n",
       "    <tr>\n",
       "      <th>3</th>\n",
       "      <td>AFFX-BioC-5_at (endogenous control)</td>\n",
       "      <td>AFFX-BioC-5_at</td>\n",
       "      <td>88</td>\n",
       "      <td>A</td>\n",
       "      <td>283</td>\n",
       "      <td>A</td>\n",
       "      <td>309</td>\n",
       "      <td>A</td>\n",
       "      <td>12</td>\n",
       "      <td>A</td>\n",
       "      <td>...</td>\n",
       "      <td>193</td>\n",
       "      <td>A</td>\n",
       "      <td>312</td>\n",
       "      <td>A</td>\n",
       "      <td>230</td>\n",
       "      <td>P</td>\n",
       "      <td>330</td>\n",
       "      <td>A</td>\n",
       "      <td>337</td>\n",
       "      <td>A</td>\n",
       "    </tr>\n",
       "    <tr>\n",
       "      <th>4</th>\n",
       "      <td>AFFX-BioC-3_at (endogenous control)</td>\n",
       "      <td>AFFX-BioC-3_at</td>\n",
       "      <td>-295</td>\n",
       "      <td>A</td>\n",
       "      <td>-264</td>\n",
       "      <td>A</td>\n",
       "      <td>-376</td>\n",
       "      <td>A</td>\n",
       "      <td>-419</td>\n",
       "      <td>A</td>\n",
       "      <td>...</td>\n",
       "      <td>-51</td>\n",
       "      <td>A</td>\n",
       "      <td>-139</td>\n",
       "      <td>A</td>\n",
       "      <td>-367</td>\n",
       "      <td>A</td>\n",
       "      <td>-188</td>\n",
       "      <td>A</td>\n",
       "      <td>-407</td>\n",
       "      <td>A</td>\n",
       "    </tr>\n",
       "  </tbody>\n",
       "</table>\n",
       "<p>5 rows × 78 columns</p>\n",
       "</div>"
      ],
      "text/plain": [
       "                      Gene Description Gene Accession Number    1 call    2  \\\n",
       "0  AFFX-BioB-5_at (endogenous control)        AFFX-BioB-5_at -214    A -139   \n",
       "1  AFFX-BioB-M_at (endogenous control)        AFFX-BioB-M_at -153    A  -73   \n",
       "2  AFFX-BioB-3_at (endogenous control)        AFFX-BioB-3_at  -58    A   -1   \n",
       "3  AFFX-BioC-5_at (endogenous control)        AFFX-BioC-5_at   88    A  283   \n",
       "4  AFFX-BioC-3_at (endogenous control)        AFFX-BioC-3_at -295    A -264   \n",
       "\n",
       "  call.1    3 call.2    4 call.3  ...   29 call.33   30 call.34   31 call.35  \\\n",
       "0      A  -76      A -135      A  ...   15       A -318       A  -32       A   \n",
       "1      A  -49      A -114      A  ... -114       A -192       A  -49       A   \n",
       "2      A -307      A  265      A  ...    2       A  -95       A   49       A   \n",
       "3      A  309      A   12      A  ...  193       A  312       A  230       P   \n",
       "4      A -376      A -419      A  ...  -51       A -139       A -367       A   \n",
       "\n",
       "    32 call.36   33 call.37  \n",
       "0 -124       A -135       A  \n",
       "1  -79       A -186       A  \n",
       "2  -37       A  -70       A  \n",
       "3  330       A  337       A  \n",
       "4 -188       A -407       A  \n",
       "\n",
       "[5 rows x 78 columns]"
      ]
     },
     "execution_count": 3,
     "metadata": {},
     "output_type": "execute_result"
    }
   ],
   "source": [
    "Train_Data.head()"
   ]
  },
  {
   "cell_type": "markdown",
   "metadata": {
    "papermill": {
     "duration": 0.034374,
     "end_time": "2023-12-19T20:07:53.988145",
     "exception": false,
     "start_time": "2023-12-19T20:07:53.953771",
     "status": "completed"
    },
    "tags": []
   },
   "source": [
    "### Check for nulls"
   ]
  },
  {
   "cell_type": "code",
   "execution_count": 4,
   "metadata": {
    "execution": {
     "iopub.execute_input": "2023-12-19T20:07:54.060210Z",
     "iopub.status.busy": "2023-12-19T20:07:54.059555Z",
     "iopub.status.idle": "2023-12-19T20:07:54.098798Z",
     "shell.execute_reply": "2023-12-19T20:07:54.099579Z",
     "shell.execute_reply.started": "2023-12-19T19:22:28.039242Z"
    },
    "papermill": {
     "duration": 0.07713,
     "end_time": "2023-12-19T20:07:54.099762",
     "exception": false,
     "start_time": "2023-12-19T20:07:54.022632",
     "status": "completed"
    },
    "tags": []
   },
   "outputs": [
    {
     "name": "stdout",
     "output_type": "stream",
     "text": [
      "0\n",
      "0\n"
     ]
    }
   ],
   "source": [
    "#check for nulls\n",
    "print(Train_Data.isna().sum().max())\n",
    "print(Test_Data.isna().sum().max())"
   ]
  },
  {
   "cell_type": "markdown",
   "metadata": {
    "papermill": {
     "duration": 0.034876,
     "end_time": "2023-12-19T20:07:54.171076",
     "exception": false,
     "start_time": "2023-12-19T20:07:54.136200",
     "status": "completed"
    },
    "tags": []
   },
   "source": [
    "### Drop 'call'"
   ]
  },
  {
   "cell_type": "code",
   "execution_count": 5,
   "metadata": {
    "execution": {
     "iopub.execute_input": "2023-12-19T20:07:54.253304Z",
     "iopub.status.busy": "2023-12-19T20:07:54.244500Z",
     "iopub.status.idle": "2023-12-19T20:07:54.256502Z",
     "shell.execute_reply": "2023-12-19T20:07:54.255810Z",
     "shell.execute_reply.started": "2023-12-19T19:22:28.117520Z"
    },
    "papermill": {
     "duration": 0.049786,
     "end_time": "2023-12-19T20:07:54.256643",
     "exception": false,
     "start_time": "2023-12-19T20:07:54.206857",
     "status": "completed"
    },
    "tags": []
   },
   "outputs": [],
   "source": [
    "#drop 'call' columns\n",
    "cols = [col for col in Test_Data.columns if 'call' in col]\n",
    "test = Test_Data.drop(cols, 1)\n",
    "cols = [col for col in Train_Data.columns if 'call' in col]\n",
    "train = Train_Data.drop(cols, 1)"
   ]
  },
  {
   "cell_type": "code",
   "execution_count": 6,
   "metadata": {
    "execution": {
     "iopub.execute_input": "2023-12-19T20:07:54.334277Z",
     "iopub.status.busy": "2023-12-19T20:07:54.333543Z",
     "iopub.status.idle": "2023-12-19T20:07:54.352643Z",
     "shell.execute_reply": "2023-12-19T20:07:54.351801Z",
     "shell.execute_reply.started": "2023-12-19T19:22:28.135111Z"
    },
    "papermill": {
     "duration": 0.060578,
     "end_time": "2023-12-19T20:07:54.352781",
     "exception": false,
     "start_time": "2023-12-19T20:07:54.292203",
     "status": "completed"
    },
    "tags": []
   },
   "outputs": [],
   "source": [
    "#Join all the data\n",
    "patients = [str(i) for i in range(1, 73, 1)]\n",
    "df_all = pd.concat([train, test], axis = 1)[patients]"
   ]
  },
  {
   "cell_type": "markdown",
   "metadata": {
    "papermill": {
     "duration": 0.034643,
     "end_time": "2023-12-19T20:07:54.424528",
     "exception": false,
     "start_time": "2023-12-19T20:07:54.389885",
     "status": "completed"
    },
    "tags": []
   },
   "source": [
    "### Transpose rows and columns"
   ]
  },
  {
   "cell_type": "code",
   "execution_count": 7,
   "metadata": {
    "execution": {
     "iopub.execute_input": "2023-12-19T20:07:54.500879Z",
     "iopub.status.busy": "2023-12-19T20:07:54.499861Z",
     "iopub.status.idle": "2023-12-19T20:07:54.503392Z",
     "shell.execute_reply": "2023-12-19T20:07:54.502809Z",
     "shell.execute_reply.started": "2023-12-19T19:22:28.157053Z"
    },
    "papermill": {
     "duration": 0.043406,
     "end_time": "2023-12-19T20:07:54.503524",
     "exception": false,
     "start_time": "2023-12-19T20:07:54.460118",
     "status": "completed"
    },
    "tags": []
   },
   "outputs": [],
   "source": [
    "#transpose rows and columns\n",
    "df_all = df_all.T"
   ]
  },
  {
   "cell_type": "markdown",
   "metadata": {
    "papermill": {
     "duration": 0.034853,
     "end_time": "2023-12-19T20:07:54.573278",
     "exception": false,
     "start_time": "2023-12-19T20:07:54.538425",
     "status": "completed"
    },
    "tags": []
   },
   "source": [
    "### Encode the categorical columns"
   ]
  },
  {
   "cell_type": "code",
   "execution_count": 8,
   "metadata": {
    "execution": {
     "iopub.execute_input": "2023-12-19T20:07:54.647293Z",
     "iopub.status.busy": "2023-12-19T20:07:54.646536Z",
     "iopub.status.idle": "2023-12-19T20:07:54.673387Z",
     "shell.execute_reply": "2023-12-19T20:07:54.672624Z",
     "shell.execute_reply.started": "2023-12-19T19:22:28.748691Z"
    },
    "papermill": {
     "duration": 0.065183,
     "end_time": "2023-12-19T20:07:54.673536",
     "exception": false,
     "start_time": "2023-12-19T20:07:54.608353",
     "status": "completed"
    },
    "tags": []
   },
   "outputs": [],
   "source": [
    "df_all[\"patient\"] = pd.to_numeric(patients)\n",
    "labels[\"cancer\"]= pd.get_dummies(labels.cancer, drop_first=True)\n",
    "# add the cancer column to train data\n",
    "\n",
    "Data = pd.merge(df_all, labels, on=\"patient\")"
   ]
  },
  {
   "cell_type": "code",
   "execution_count": 9,
   "metadata": {
    "execution": {
     "iopub.execute_input": "2023-12-19T20:07:54.750695Z",
     "iopub.status.busy": "2023-12-19T20:07:54.749632Z",
     "iopub.status.idle": "2023-12-19T20:07:54.767686Z",
     "shell.execute_reply": "2023-12-19T20:07:54.768313Z",
     "shell.execute_reply.started": "2023-12-19T19:22:28.779058Z"
    },
    "papermill": {
     "duration": 0.059839,
     "end_time": "2023-12-19T20:07:54.768469",
     "exception": false,
     "start_time": "2023-12-19T20:07:54.708630",
     "status": "completed"
    },
    "tags": []
   },
   "outputs": [
    {
     "data": {
      "text/html": [
       "<div>\n",
       "<style scoped>\n",
       "    .dataframe tbody tr th:only-of-type {\n",
       "        vertical-align: middle;\n",
       "    }\n",
       "\n",
       "    .dataframe tbody tr th {\n",
       "        vertical-align: top;\n",
       "    }\n",
       "\n",
       "    .dataframe thead th {\n",
       "        text-align: right;\n",
       "    }\n",
       "</style>\n",
       "<table border=\"1\" class=\"dataframe\">\n",
       "  <thead>\n",
       "    <tr style=\"text-align: right;\">\n",
       "      <th></th>\n",
       "      <th>0</th>\n",
       "      <th>1</th>\n",
       "      <th>2</th>\n",
       "      <th>3</th>\n",
       "      <th>4</th>\n",
       "      <th>5</th>\n",
       "      <th>6</th>\n",
       "      <th>7</th>\n",
       "      <th>8</th>\n",
       "      <th>9</th>\n",
       "      <th>...</th>\n",
       "      <th>7121</th>\n",
       "      <th>7122</th>\n",
       "      <th>7123</th>\n",
       "      <th>7124</th>\n",
       "      <th>7125</th>\n",
       "      <th>7126</th>\n",
       "      <th>7127</th>\n",
       "      <th>7128</th>\n",
       "      <th>patient</th>\n",
       "      <th>cancer</th>\n",
       "    </tr>\n",
       "  </thead>\n",
       "  <tbody>\n",
       "    <tr>\n",
       "      <th>0</th>\n",
       "      <td>-214</td>\n",
       "      <td>-153</td>\n",
       "      <td>-58</td>\n",
       "      <td>88</td>\n",
       "      <td>-295</td>\n",
       "      <td>-558</td>\n",
       "      <td>199</td>\n",
       "      <td>-176</td>\n",
       "      <td>252</td>\n",
       "      <td>206</td>\n",
       "      <td>...</td>\n",
       "      <td>-125</td>\n",
       "      <td>389</td>\n",
       "      <td>-37</td>\n",
       "      <td>793</td>\n",
       "      <td>329</td>\n",
       "      <td>36</td>\n",
       "      <td>191</td>\n",
       "      <td>-37</td>\n",
       "      <td>1</td>\n",
       "      <td>0</td>\n",
       "    </tr>\n",
       "    <tr>\n",
       "      <th>1</th>\n",
       "      <td>-139</td>\n",
       "      <td>-73</td>\n",
       "      <td>-1</td>\n",
       "      <td>283</td>\n",
       "      <td>-264</td>\n",
       "      <td>-400</td>\n",
       "      <td>-330</td>\n",
       "      <td>-168</td>\n",
       "      <td>101</td>\n",
       "      <td>74</td>\n",
       "      <td>...</td>\n",
       "      <td>-36</td>\n",
       "      <td>442</td>\n",
       "      <td>-17</td>\n",
       "      <td>782</td>\n",
       "      <td>295</td>\n",
       "      <td>11</td>\n",
       "      <td>76</td>\n",
       "      <td>-14</td>\n",
       "      <td>2</td>\n",
       "      <td>0</td>\n",
       "    </tr>\n",
       "    <tr>\n",
       "      <th>2</th>\n",
       "      <td>-76</td>\n",
       "      <td>-49</td>\n",
       "      <td>-307</td>\n",
       "      <td>309</td>\n",
       "      <td>-376</td>\n",
       "      <td>-650</td>\n",
       "      <td>33</td>\n",
       "      <td>-367</td>\n",
       "      <td>206</td>\n",
       "      <td>-215</td>\n",
       "      <td>...</td>\n",
       "      <td>33</td>\n",
       "      <td>168</td>\n",
       "      <td>52</td>\n",
       "      <td>1138</td>\n",
       "      <td>777</td>\n",
       "      <td>41</td>\n",
       "      <td>228</td>\n",
       "      <td>-41</td>\n",
       "      <td>3</td>\n",
       "      <td>0</td>\n",
       "    </tr>\n",
       "    <tr>\n",
       "      <th>3</th>\n",
       "      <td>-135</td>\n",
       "      <td>-114</td>\n",
       "      <td>265</td>\n",
       "      <td>12</td>\n",
       "      <td>-419</td>\n",
       "      <td>-585</td>\n",
       "      <td>158</td>\n",
       "      <td>-253</td>\n",
       "      <td>49</td>\n",
       "      <td>31</td>\n",
       "      <td>...</td>\n",
       "      <td>218</td>\n",
       "      <td>174</td>\n",
       "      <td>-110</td>\n",
       "      <td>627</td>\n",
       "      <td>170</td>\n",
       "      <td>-50</td>\n",
       "      <td>126</td>\n",
       "      <td>-91</td>\n",
       "      <td>4</td>\n",
       "      <td>0</td>\n",
       "    </tr>\n",
       "    <tr>\n",
       "      <th>4</th>\n",
       "      <td>-106</td>\n",
       "      <td>-125</td>\n",
       "      <td>-76</td>\n",
       "      <td>168</td>\n",
       "      <td>-230</td>\n",
       "      <td>-284</td>\n",
       "      <td>4</td>\n",
       "      <td>-122</td>\n",
       "      <td>70</td>\n",
       "      <td>252</td>\n",
       "      <td>...</td>\n",
       "      <td>57</td>\n",
       "      <td>504</td>\n",
       "      <td>-26</td>\n",
       "      <td>250</td>\n",
       "      <td>314</td>\n",
       "      <td>14</td>\n",
       "      <td>56</td>\n",
       "      <td>-25</td>\n",
       "      <td>5</td>\n",
       "      <td>0</td>\n",
       "    </tr>\n",
       "  </tbody>\n",
       "</table>\n",
       "<p>5 rows × 7131 columns</p>\n",
       "</div>"
      ],
      "text/plain": [
       "     0    1    2    3    4    5    6    7    8    9  ...  7121  7122  7123  \\\n",
       "0 -214 -153  -58   88 -295 -558  199 -176  252  206  ...  -125   389   -37   \n",
       "1 -139  -73   -1  283 -264 -400 -330 -168  101   74  ...   -36   442   -17   \n",
       "2  -76  -49 -307  309 -376 -650   33 -367  206 -215  ...    33   168    52   \n",
       "3 -135 -114  265   12 -419 -585  158 -253   49   31  ...   218   174  -110   \n",
       "4 -106 -125  -76  168 -230 -284    4 -122   70  252  ...    57   504   -26   \n",
       "\n",
       "   7124  7125  7126  7127  7128  patient  cancer  \n",
       "0   793   329    36   191   -37        1       0  \n",
       "1   782   295    11    76   -14        2       0  \n",
       "2  1138   777    41   228   -41        3       0  \n",
       "3   627   170   -50   126   -91        4       0  \n",
       "4   250   314    14    56   -25        5       0  \n",
       "\n",
       "[5 rows x 7131 columns]"
      ]
     },
     "execution_count": 9,
     "metadata": {},
     "output_type": "execute_result"
    }
   ],
   "source": [
    "Data.head()"
   ]
  },
  {
   "cell_type": "code",
   "execution_count": 10,
   "metadata": {
    "execution": {
     "iopub.execute_input": "2023-12-19T20:07:54.842728Z",
     "iopub.status.busy": "2023-12-19T20:07:54.842022Z",
     "iopub.status.idle": "2023-12-19T20:07:54.853662Z",
     "shell.execute_reply": "2023-12-19T20:07:54.853015Z",
     "shell.execute_reply.started": "2023-12-19T19:22:28.805315Z"
    },
    "papermill": {
     "duration": 0.049819,
     "end_time": "2023-12-19T20:07:54.853781",
     "exception": false,
     "start_time": "2023-12-19T20:07:54.803962",
     "status": "completed"
    },
    "tags": []
   },
   "outputs": [
    {
     "data": {
      "text/plain": [
       "0    47\n",
       "1    25\n",
       "Name: cancer, dtype: int64"
      ]
     },
     "execution_count": 10,
     "metadata": {},
     "output_type": "execute_result"
    }
   ],
   "source": [
    "Data['cancer'].value_counts()"
   ]
  },
  {
   "cell_type": "code",
   "execution_count": 11,
   "metadata": {
    "execution": {
     "iopub.execute_input": "2023-12-19T20:07:54.929274Z",
     "iopub.status.busy": "2023-12-19T20:07:54.928492Z",
     "iopub.status.idle": "2023-12-19T20:07:55.093021Z",
     "shell.execute_reply": "2023-12-19T20:07:55.092309Z",
     "shell.execute_reply.started": "2023-12-19T19:22:28.816727Z"
    },
    "papermill": {
     "duration": 0.203491,
     "end_time": "2023-12-19T20:07:55.093147",
     "exception": false,
     "start_time": "2023-12-19T20:07:54.889656",
     "status": "completed"
    },
    "tags": []
   },
   "outputs": [
    {
     "data": {
      "text/plain": [
       "Text(0.5, 1.0, 'Class Distributions \\n (0: AML || 1: ALL)')"
      ]
     },
     "execution_count": 11,
     "metadata": {},
     "output_type": "execute_result"
    },
    {
     "data": {
      "image/png": "[encoded data removed]",
      "text/plain": [
       "<Figure size 288x576 with 1 Axes>"
      ]
     },
     "metadata": {
      "needs_background": "light"
     },
     "output_type": "display_data"
    }
   ],
   "source": [
    "plt.figure(figsize=(4,8))\n",
    "colors = [\"AML\", \"ALL\"]\n",
    "sns.countplot('cancer', data=Data, palette = \"Set1\")\n",
    "plt.title('Class Distributions \\n (0: AML || 1: ALL)', fontsize=14)"
   ]
  },
  {
   "cell_type": "code",
   "execution_count": 12,
   "metadata": {
    "execution": {
     "iopub.execute_input": "2023-12-19T20:07:55.174417Z",
     "iopub.status.busy": "2023-12-19T20:07:55.173692Z",
     "iopub.status.idle": "2023-12-19T20:07:55.187076Z",
     "shell.execute_reply": "2023-12-19T20:07:55.187671Z",
     "shell.execute_reply.started": "2023-12-19T19:22:28.962007Z"
    },
    "papermill": {
     "duration": 0.056738,
     "end_time": "2023-12-19T20:07:55.187830",
     "exception": false,
     "start_time": "2023-12-19T20:07:55.131092",
     "status": "completed"
    },
    "tags": []
   },
   "outputs": [],
   "source": [
    "#X -> matrix of independent variable\n",
    "#y -> vector of dependent variable\n",
    "X, y = Data.drop(columns=[\"cancer\"]), Data[\"cancer\"]"
   ]
  },
  {
   "cell_type": "code",
   "execution_count": 13,
   "metadata": {
    "execution": {
     "iopub.execute_input": "2023-12-19T20:07:55.274890Z",
     "iopub.status.busy": "2023-12-19T20:07:55.270358Z",
     "iopub.status.idle": "2023-12-19T20:07:55.291146Z",
     "shell.execute_reply": "2023-12-19T20:07:55.290425Z",
     "shell.execute_reply.started": "2023-12-19T19:22:28.981300Z"
    },
    "papermill": {
     "duration": 0.065874,
     "end_time": "2023-12-19T20:07:55.291279",
     "exception": false,
     "start_time": "2023-12-19T20:07:55.225405",
     "status": "completed"
    },
    "tags": []
   },
   "outputs": [
    {
     "data": {
      "text/html": [
       "<div>\n",
       "<style scoped>\n",
       "    .dataframe tbody tr th:only-of-type {\n",
       "        vertical-align: middle;\n",
       "    }\n",
       "\n",
       "    .dataframe tbody tr th {\n",
       "        vertical-align: top;\n",
       "    }\n",
       "\n",
       "    .dataframe thead th {\n",
       "        text-align: right;\n",
       "    }\n",
       "</style>\n",
       "<table border=\"1\" class=\"dataframe\">\n",
       "  <thead>\n",
       "    <tr style=\"text-align: right;\">\n",
       "      <th></th>\n",
       "      <th>0</th>\n",
       "      <th>1</th>\n",
       "      <th>2</th>\n",
       "      <th>3</th>\n",
       "      <th>4</th>\n",
       "      <th>5</th>\n",
       "      <th>6</th>\n",
       "      <th>7</th>\n",
       "      <th>8</th>\n",
       "      <th>9</th>\n",
       "      <th>...</th>\n",
       "      <th>7120</th>\n",
       "      <th>7121</th>\n",
       "      <th>7122</th>\n",
       "      <th>7123</th>\n",
       "      <th>7124</th>\n",
       "      <th>7125</th>\n",
       "      <th>7126</th>\n",
       "      <th>7127</th>\n",
       "      <th>7128</th>\n",
       "      <th>patient</th>\n",
       "    </tr>\n",
       "  </thead>\n",
       "  <tbody>\n",
       "    <tr>\n",
       "      <th>0</th>\n",
       "      <td>-214</td>\n",
       "      <td>-153</td>\n",
       "      <td>-58</td>\n",
       "      <td>88</td>\n",
       "      <td>-295</td>\n",
       "      <td>-558</td>\n",
       "      <td>199</td>\n",
       "      <td>-176</td>\n",
       "      <td>252</td>\n",
       "      <td>206</td>\n",
       "      <td>...</td>\n",
       "      <td>511</td>\n",
       "      <td>-125</td>\n",
       "      <td>389</td>\n",
       "      <td>-37</td>\n",
       "      <td>793</td>\n",
       "      <td>329</td>\n",
       "      <td>36</td>\n",
       "      <td>191</td>\n",
       "      <td>-37</td>\n",
       "      <td>1</td>\n",
       "    </tr>\n",
       "    <tr>\n",
       "      <th>1</th>\n",
       "      <td>-139</td>\n",
       "      <td>-73</td>\n",
       "      <td>-1</td>\n",
       "      <td>283</td>\n",
       "      <td>-264</td>\n",
       "      <td>-400</td>\n",
       "      <td>-330</td>\n",
       "      <td>-168</td>\n",
       "      <td>101</td>\n",
       "      <td>74</td>\n",
       "      <td>...</td>\n",
       "      <td>837</td>\n",
       "      <td>-36</td>\n",
       "      <td>442</td>\n",
       "      <td>-17</td>\n",
       "      <td>782</td>\n",
       "      <td>295</td>\n",
       "      <td>11</td>\n",
       "      <td>76</td>\n",
       "      <td>-14</td>\n",
       "      <td>2</td>\n",
       "    </tr>\n",
       "    <tr>\n",
       "      <th>2</th>\n",
       "      <td>-76</td>\n",
       "      <td>-49</td>\n",
       "      <td>-307</td>\n",
       "      <td>309</td>\n",
       "      <td>-376</td>\n",
       "      <td>-650</td>\n",
       "      <td>33</td>\n",
       "      <td>-367</td>\n",
       "      <td>206</td>\n",
       "      <td>-215</td>\n",
       "      <td>...</td>\n",
       "      <td>1199</td>\n",
       "      <td>33</td>\n",
       "      <td>168</td>\n",
       "      <td>52</td>\n",
       "      <td>1138</td>\n",
       "      <td>777</td>\n",
       "      <td>41</td>\n",
       "      <td>228</td>\n",
       "      <td>-41</td>\n",
       "      <td>3</td>\n",
       "    </tr>\n",
       "    <tr>\n",
       "      <th>3</th>\n",
       "      <td>-135</td>\n",
       "      <td>-114</td>\n",
       "      <td>265</td>\n",
       "      <td>12</td>\n",
       "      <td>-419</td>\n",
       "      <td>-585</td>\n",
       "      <td>158</td>\n",
       "      <td>-253</td>\n",
       "      <td>49</td>\n",
       "      <td>31</td>\n",
       "      <td>...</td>\n",
       "      <td>835</td>\n",
       "      <td>218</td>\n",
       "      <td>174</td>\n",
       "      <td>-110</td>\n",
       "      <td>627</td>\n",
       "      <td>170</td>\n",
       "      <td>-50</td>\n",
       "      <td>126</td>\n",
       "      <td>-91</td>\n",
       "      <td>4</td>\n",
       "    </tr>\n",
       "    <tr>\n",
       "      <th>4</th>\n",
       "      <td>-106</td>\n",
       "      <td>-125</td>\n",
       "      <td>-76</td>\n",
       "      <td>168</td>\n",
       "      <td>-230</td>\n",
       "      <td>-284</td>\n",
       "      <td>4</td>\n",
       "      <td>-122</td>\n",
       "      <td>70</td>\n",
       "      <td>252</td>\n",
       "      <td>...</td>\n",
       "      <td>649</td>\n",
       "      <td>57</td>\n",
       "      <td>504</td>\n",
       "      <td>-26</td>\n",
       "      <td>250</td>\n",
       "      <td>314</td>\n",
       "      <td>14</td>\n",
       "      <td>56</td>\n",
       "      <td>-25</td>\n",
       "      <td>5</td>\n",
       "    </tr>\n",
       "    <tr>\n",
       "      <th>...</th>\n",
       "      <td>...</td>\n",
       "      <td>...</td>\n",
       "      <td>...</td>\n",
       "      <td>...</td>\n",
       "      <td>...</td>\n",
       "      <td>...</td>\n",
       "      <td>...</td>\n",
       "      <td>...</td>\n",
       "      <td>...</td>\n",
       "      <td>...</td>\n",
       "      <td>...</td>\n",
       "      <td>...</td>\n",
       "      <td>...</td>\n",
       "      <td>...</td>\n",
       "      <td>...</td>\n",
       "      <td>...</td>\n",
       "      <td>...</td>\n",
       "      <td>...</td>\n",
       "      <td>...</td>\n",
       "      <td>...</td>\n",
       "      <td>...</td>\n",
       "    </tr>\n",
       "    <tr>\n",
       "      <th>67</th>\n",
       "      <td>-154</td>\n",
       "      <td>-136</td>\n",
       "      <td>49</td>\n",
       "      <td>180</td>\n",
       "      <td>-257</td>\n",
       "      <td>-273</td>\n",
       "      <td>141</td>\n",
       "      <td>-123</td>\n",
       "      <td>52</td>\n",
       "      <td>878</td>\n",
       "      <td>...</td>\n",
       "      <td>540</td>\n",
       "      <td>13</td>\n",
       "      <td>1075</td>\n",
       "      <td>-45</td>\n",
       "      <td>524</td>\n",
       "      <td>249</td>\n",
       "      <td>40</td>\n",
       "      <td>-68</td>\n",
       "      <td>-1</td>\n",
       "      <td>68</td>\n",
       "    </tr>\n",
       "    <tr>\n",
       "      <th>68</th>\n",
       "      <td>-79</td>\n",
       "      <td>-118</td>\n",
       "      <td>-30</td>\n",
       "      <td>68</td>\n",
       "      <td>-110</td>\n",
       "      <td>-264</td>\n",
       "      <td>-28</td>\n",
       "      <td>-61</td>\n",
       "      <td>40</td>\n",
       "      <td>-217</td>\n",
       "      <td>...</td>\n",
       "      <td>617</td>\n",
       "      <td>-34</td>\n",
       "      <td>738</td>\n",
       "      <td>11</td>\n",
       "      <td>742</td>\n",
       "      <td>234</td>\n",
       "      <td>72</td>\n",
       "      <td>109</td>\n",
       "      <td>-30</td>\n",
       "      <td>69</td>\n",
       "    </tr>\n",
       "    <tr>\n",
       "      <th>69</th>\n",
       "      <td>-55</td>\n",
       "      <td>-44</td>\n",
       "      <td>12</td>\n",
       "      <td>129</td>\n",
       "      <td>-108</td>\n",
       "      <td>-301</td>\n",
       "      <td>-222</td>\n",
       "      <td>-133</td>\n",
       "      <td>136</td>\n",
       "      <td>320</td>\n",
       "      <td>...</td>\n",
       "      <td>318</td>\n",
       "      <td>35</td>\n",
       "      <td>241</td>\n",
       "      <td>-66</td>\n",
       "      <td>320</td>\n",
       "      <td>174</td>\n",
       "      <td>-4</td>\n",
       "      <td>176</td>\n",
       "      <td>40</td>\n",
       "      <td>70</td>\n",
       "    </tr>\n",
       "    <tr>\n",
       "      <th>70</th>\n",
       "      <td>-59</td>\n",
       "      <td>-114</td>\n",
       "      <td>23</td>\n",
       "      <td>146</td>\n",
       "      <td>-171</td>\n",
       "      <td>-227</td>\n",
       "      <td>-73</td>\n",
       "      <td>-126</td>\n",
       "      <td>-6</td>\n",
       "      <td>149</td>\n",
       "      <td>...</td>\n",
       "      <td>760</td>\n",
       "      <td>-38</td>\n",
       "      <td>201</td>\n",
       "      <td>-55</td>\n",
       "      <td>348</td>\n",
       "      <td>208</td>\n",
       "      <td>0</td>\n",
       "      <td>74</td>\n",
       "      <td>-12</td>\n",
       "      <td>71</td>\n",
       "    </tr>\n",
       "    <tr>\n",
       "      <th>71</th>\n",
       "      <td>-131</td>\n",
       "      <td>-126</td>\n",
       "      <td>-50</td>\n",
       "      <td>211</td>\n",
       "      <td>-206</td>\n",
       "      <td>-287</td>\n",
       "      <td>-34</td>\n",
       "      <td>-114</td>\n",
       "      <td>62</td>\n",
       "      <td>341</td>\n",
       "      <td>...</td>\n",
       "      <td>697</td>\n",
       "      <td>3</td>\n",
       "      <td>1046</td>\n",
       "      <td>27</td>\n",
       "      <td>874</td>\n",
       "      <td>393</td>\n",
       "      <td>34</td>\n",
       "      <td>237</td>\n",
       "      <td>-2</td>\n",
       "      <td>72</td>\n",
       "    </tr>\n",
       "  </tbody>\n",
       "</table>\n",
       "<p>72 rows × 7130 columns</p>\n",
       "</div>"
      ],
      "text/plain": [
       "      0    1    2    3    4    5    6    7    8    9  ...  7120  7121  7122  \\\n",
       "0  -214 -153  -58   88 -295 -558  199 -176  252  206  ...   511  -125   389   \n",
       "1  -139  -73   -1  283 -264 -400 -330 -168  101   74  ...   837   -36   442   \n",
       "2   -76  -49 -307  309 -376 -650   33 -367  206 -215  ...  1199    33   168   \n",
       "3  -135 -114  265   12 -419 -585  158 -253   49   31  ...   835   218   174   \n",
       "4  -106 -125  -76  168 -230 -284    4 -122   70  252  ...   649    57   504   \n",
       "..  ...  ...  ...  ...  ...  ...  ...  ...  ...  ...  ...   ...   ...   ...   \n",
       "67 -154 -136   49  180 -257 -273  141 -123   52  878  ...   540    13  1075   \n",
       "68  -79 -118  -30   68 -110 -264  -28  -61   40 -217  ...   617   -34   738   \n",
       "69  -55  -44   12  129 -108 -301 -222 -133  136  320  ...   318    35   241   \n",
       "70  -59 -114   23  146 -171 -227  -73 -126   -6  149  ...   760   -38   201   \n",
       "71 -131 -126  -50  211 -206 -287  -34 -114   62  341  ...   697     3  1046   \n",
       "\n",
       "    7123  7124  7125  7126  7127  7128  patient  \n",
       "0    -37   793   329    36   191   -37        1  \n",
       "1    -17   782   295    11    76   -14        2  \n",
       "2     52  1138   777    41   228   -41        3  \n",
       "3   -110   627   170   -50   126   -91        4  \n",
       "4    -26   250   314    14    56   -25        5  \n",
       "..   ...   ...   ...   ...   ...   ...      ...  \n",
       "67   -45   524   249    40   -68    -1       68  \n",
       "68    11   742   234    72   109   -30       69  \n",
       "69   -66   320   174    -4   176    40       70  \n",
       "70   -55   348   208     0    74   -12       71  \n",
       "71    27   874   393    34   237    -2       72  \n",
       "\n",
       "[72 rows x 7130 columns]"
      ]
     },
     "execution_count": 13,
     "metadata": {},
     "output_type": "execute_result"
    }
   ],
   "source": [
    "X"
   ]
  },
  {
   "cell_type": "code",
   "execution_count": 14,
   "metadata": {
    "execution": {
     "iopub.execute_input": "2023-12-19T20:07:55.384317Z",
     "iopub.status.busy": "2023-12-19T20:07:55.383610Z",
     "iopub.status.idle": "2023-12-19T20:07:55.388293Z",
     "shell.execute_reply": "2023-12-19T20:07:55.387490Z",
     "shell.execute_reply.started": "2023-12-19T19:22:29.014858Z"
    },
    "papermill": {
     "duration": 0.059468,
     "end_time": "2023-12-19T20:07:55.388479",
     "exception": false,
     "start_time": "2023-12-19T20:07:55.329011",
     "status": "completed"
    },
    "tags": []
   },
   "outputs": [
    {
     "data": {
      "text/plain": [
       "0     0\n",
       "1     0\n",
       "2     0\n",
       "3     0\n",
       "4     0\n",
       "     ..\n",
       "67    0\n",
       "68    0\n",
       "69    0\n",
       "70    0\n",
       "71    0\n",
       "Name: cancer, Length: 72, dtype: uint8"
      ]
     },
     "execution_count": 14,
     "metadata": {},
     "output_type": "execute_result"
    }
   ],
   "source": [
    "y"
   ]
  },
  {
   "cell_type": "markdown",
   "metadata": {
    "papermill": {
     "duration": 0.043884,
     "end_time": "2023-12-19T20:07:55.484886",
     "exception": false,
     "start_time": "2023-12-19T20:07:55.441002",
     "status": "completed"
    },
    "tags": []
   },
   "source": [
    "### Split the dataset"
   ]
  },
  {
   "cell_type": "code",
   "execution_count": 15,
   "metadata": {
    "execution": {
     "iopub.execute_input": "2023-12-19T20:07:55.571359Z",
     "iopub.status.busy": "2023-12-19T20:07:55.570598Z",
     "iopub.status.idle": "2023-12-19T20:07:55.574226Z",
     "shell.execute_reply": "2023-12-19T20:07:55.574753Z",
     "shell.execute_reply.started": "2023-12-19T19:22:29.028051Z"
    },
    "papermill": {
     "duration": 0.051893,
     "end_time": "2023-12-19T20:07:55.574939",
     "exception": false,
     "start_time": "2023-12-19T20:07:55.523046",
     "status": "completed"
    },
    "tags": []
   },
   "outputs": [],
   "source": [
    "#split the dataset\n",
    "X_train, X_test, y_train, y_test =  train_test_split(X,y,test_size = 0.25, random_state= 0)"
   ]
  },
  {
   "cell_type": "markdown",
   "metadata": {
    "papermill": {
     "duration": 0.037629,
     "end_time": "2023-12-19T20:07:55.651059",
     "exception": false,
     "start_time": "2023-12-19T20:07:55.613430",
     "status": "completed"
    },
    "tags": []
   },
   "source": [
    "### Before feature scaling"
   ]
  },
  {
   "cell_type": "code",
   "execution_count": 16,
   "metadata": {
    "execution": {
     "iopub.execute_input": "2023-12-19T20:07:55.730299Z",
     "iopub.status.busy": "2023-12-19T20:07:55.729623Z",
     "iopub.status.idle": "2023-12-19T20:07:55.732748Z",
     "shell.execute_reply": "2023-12-19T20:07:55.733362Z",
     "shell.execute_reply.started": "2023-12-19T19:22:29.041375Z"
    },
    "papermill": {
     "duration": 0.044417,
     "end_time": "2023-12-19T20:07:55.733509",
     "exception": false,
     "start_time": "2023-12-19T20:07:55.689092",
     "status": "completed"
    },
    "tags": []
   },
   "outputs": [],
   "source": [
    "#before feature scaling\n",
    "#X_train = pd.DataFrame(X_train)\n",
    "#X_train.plot(kind=\"kde\", legend=None)"
   ]
  },
  {
   "cell_type": "markdown",
   "metadata": {
    "papermill": {
     "duration": 0.042641,
     "end_time": "2023-12-19T20:07:55.817985",
     "exception": false,
     "start_time": "2023-12-19T20:07:55.775344",
     "status": "completed"
    },
    "tags": []
   },
   "source": [
    "### Feature scaling"
   ]
  },
  {
   "cell_type": "code",
   "execution_count": 17,
   "metadata": {
    "execution": {
     "iopub.execute_input": "2023-12-19T20:07:55.900542Z",
     "iopub.status.busy": "2023-12-19T20:07:55.899885Z",
     "iopub.status.idle": "2023-12-19T20:07:56.066476Z",
     "shell.execute_reply": "2023-12-19T20:07:56.065816Z",
     "shell.execute_reply.started": "2023-12-19T19:22:29.051751Z"
    },
    "papermill": {
     "duration": 0.207511,
     "end_time": "2023-12-19T20:07:56.066602",
     "exception": false,
     "start_time": "2023-12-19T20:07:55.859091",
     "status": "completed"
    },
    "tags": []
   },
   "outputs": [],
   "source": [
    "#feature scaling\n",
    "sc_X = StandardScaler()\n",
    "X_train = sc_X.fit_transform(X_train)\n",
    "X_test = sc_X.transform(X_test)"
   ]
  },
  {
   "cell_type": "code",
   "execution_count": 18,
   "metadata": {
    "execution": {
     "iopub.execute_input": "2023-12-19T20:07:56.148712Z",
     "iopub.status.busy": "2023-12-19T20:07:56.147984Z",
     "iopub.status.idle": "2023-12-19T20:07:56.150842Z",
     "shell.execute_reply": "2023-12-19T20:07:56.151412Z",
     "shell.execute_reply.started": "2023-12-19T19:22:29.298763Z"
    },
    "papermill": {
     "duration": 0.046361,
     "end_time": "2023-12-19T20:07:56.151563",
     "exception": false,
     "start_time": "2023-12-19T20:07:56.105202",
     "status": "completed"
    },
    "tags": []
   },
   "outputs": [
    {
     "data": {
      "text/plain": [
       "(54, 7130)"
      ]
     },
     "execution_count": 18,
     "metadata": {},
     "output_type": "execute_result"
    }
   ],
   "source": [
    "X_train.shape"
   ]
  },
  {
   "cell_type": "markdown",
   "metadata": {
    "papermill": {
     "duration": 0.038233,
     "end_time": "2023-12-19T20:07:56.228290",
     "exception": false,
     "start_time": "2023-12-19T20:07:56.190057",
     "status": "completed"
    },
    "tags": []
   },
   "source": [
    "### After feature scaling"
   ]
  },
  {
   "cell_type": "code",
   "execution_count": 19,
   "metadata": {
    "execution": {
     "iopub.execute_input": "2023-12-19T20:07:56.316845Z",
     "iopub.status.busy": "2023-12-19T20:07:56.316208Z",
     "iopub.status.idle": "2023-12-19T20:07:56.320218Z",
     "shell.execute_reply": "2023-12-19T20:07:56.320835Z",
     "shell.execute_reply.started": "2023-12-19T19:22:29.307847Z"
    },
    "papermill": {
     "duration": 0.053464,
     "end_time": "2023-12-19T20:07:56.321062",
     "exception": false,
     "start_time": "2023-12-19T20:07:56.267598",
     "status": "completed"
    },
    "tags": []
   },
   "outputs": [],
   "source": [
    "#after feature scaling\n",
    "#X_train = pd.DataFrame(X_train)\n",
    "#X_train.plot(kind=\"kde\", legend=None)"
   ]
  },
  {
   "cell_type": "markdown",
   "metadata": {
    "papermill": {
     "duration": 0.040337,
     "end_time": "2023-12-19T20:07:56.402454",
     "exception": false,
     "start_time": "2023-12-19T20:07:56.362117",
     "status": "completed"
    },
    "tags": []
   },
   "source": [
    "### Dimentionality reduction using Principal Component Analysis(PCA)"
   ]
  },
  {
   "cell_type": "code",
   "execution_count": 20,
   "metadata": {
    "execution": {
     "iopub.execute_input": "2023-12-19T20:07:56.485172Z",
     "iopub.status.busy": "2023-12-19T20:07:56.484496Z",
     "iopub.status.idle": "2023-12-19T20:07:56.830749Z",
     "shell.execute_reply": "2023-12-19T20:07:56.830171Z",
     "shell.execute_reply.started": "2023-12-19T19:22:29.316003Z"
    },
    "papermill": {
     "duration": 0.38767,
     "end_time": "2023-12-19T20:07:56.830872",
     "exception": false,
     "start_time": "2023-12-19T20:07:56.443202",
     "status": "completed"
    },
    "tags": []
   },
   "outputs": [
    {
     "name": "stdout",
     "output_type": "stream",
     "text": [
      "38 features explain around 90% of the variance. From 7129 features to 38, not too bad.\n"
     ]
    },
    {
     "data": {
      "text/plain": [
       "<BarContainer object of 38 artists>"
      ]
     },
     "execution_count": 20,
     "metadata": {},
     "output_type": "execute_result"
    },
    {
     "data": {
      "image/png": "[encoded data removed]",
      "text/plain": [
       "<Figure size 432x288 with 1 Axes>"
      ]
     },
     "metadata": {
      "needs_background": "light"
     },
     "output_type": "display_data"
    }
   ],
   "source": [
    "pca = PCA()\n",
    "pca.fit_transform(X_train)\n",
    "\n",
    "total = sum(pca.explained_variance_)\n",
    "k = 0\n",
    "current_variance = 0\n",
    "while current_variance/total < 0.90:\n",
    "    current_variance += pca.explained_variance_[k]\n",
    "    k = k + 1\n",
    "    \n",
    "print(k, \" features explain around 90% of the variance. From 7129 features to \", k, \", not too bad.\", sep='')\n",
    "\n",
    "pca = PCA(n_components=k)\n",
    "X_train_pca = pca.fit(X_train)\n",
    "X_train_pca = pca.transform(X_train)\n",
    "X_test_pca = pca.transform(X_test)\n",
    "\n",
    "var_exp = pca.explained_variance_ratio_.cumsum()\n",
    "var_exp = var_exp*100\n",
    "plt.bar(range(k), var_exp,color = 'r')"
   ]
  },
  {
   "cell_type": "code",
   "execution_count": 21,
   "metadata": {
    "execution": {
     "iopub.execute_input": "2023-12-19T20:07:56.917472Z",
     "iopub.status.busy": "2023-12-19T20:07:56.916620Z",
     "iopub.status.idle": "2023-12-19T20:07:56.920297Z",
     "shell.execute_reply": "2023-12-19T20:07:56.920760Z",
     "shell.execute_reply.started": "2023-12-19T19:22:29.646115Z"
    },
    "papermill": {
     "duration": 0.049618,
     "end_time": "2023-12-19T20:07:56.920943",
     "exception": false,
     "start_time": "2023-12-19T20:07:56.871325",
     "status": "completed"
    },
    "tags": []
   },
   "outputs": [
    {
     "data": {
      "text/plain": [
       "38"
      ]
     },
     "execution_count": 21,
     "metadata": {},
     "output_type": "execute_result"
    }
   ],
   "source": [
    "pca.n_components_ "
   ]
  },
  {
   "cell_type": "markdown",
   "metadata": {
    "papermill": {
     "duration": 0.039786,
     "end_time": "2023-12-19T20:07:57.000636",
     "exception": false,
     "start_time": "2023-12-19T20:07:56.960850",
     "status": "completed"
    },
    "tags": []
   },
   "source": [
    "### 3D plot of first 3 principal components"
   ]
  },
  {
   "cell_type": "code",
   "execution_count": 22,
   "metadata": {
    "execution": {
     "iopub.execute_input": "2023-12-19T20:07:57.083709Z",
     "iopub.status.busy": "2023-12-19T20:07:57.083051Z",
     "iopub.status.idle": "2023-12-19T20:07:57.258799Z",
     "shell.execute_reply": "2023-12-19T20:07:57.258087Z",
     "shell.execute_reply.started": "2023-12-19T19:22:29.656224Z"
    },
    "papermill": {
     "duration": 0.218228,
     "end_time": "2023-12-19T20:07:57.258942",
     "exception": false,
     "start_time": "2023-12-19T20:07:57.040714",
     "status": "completed"
    },
    "tags": []
   },
   "outputs": [
    {
     "data": {
      "text/plain": [
       "[]"
      ]
     },
     "execution_count": 22,
     "metadata": {},
     "output_type": "execute_result"
    },
    {
     "data": {
      "image/png": "[encoded data removed]",
      "text/plain": [
       "<Figure size 432x288 with 1 Axes>"
      ]
     },
     "metadata": {
      "needs_background": "light"
     },
     "output_type": "display_data"
    }
   ],
   "source": [
    "from mpl_toolkits.mplot3d import Axes3D\n",
    "\n",
    "pca3 = PCA(n_components=3).fit(X_train)\n",
    "X_train_reduced = pca3.transform(X_train)\n",
    "\n",
    "plt.clf()\n",
    "fig = plt.figure(1, figsize=(10,6))\n",
    "ax = Axes3D(fig, elev=-150, azim=110,)\n",
    "ax.scatter(X_train_reduced[:, 0], X_train_reduced[:, 1], X_train_reduced[:, 2], c = y_train, cmap='coolwarm', linewidths=10)\n",
    "ax.set_title(\"First three PCA directions\")\n",
    "ax.set_xlabel(\"1st eigenvector\")\n",
    "ax.w_xaxis.set_ticklabels([])\n",
    "ax.set_ylabel(\"2nd eigenvector\")\n",
    "ax.w_yaxis.set_ticklabels([])\n",
    "ax.set_zlabel(\"3rd eigenvector\")\n",
    "ax.w_zaxis.set_ticklabels([])"
   ]
  },
  {
   "cell_type": "markdown",
   "metadata": {
    "papermill": {
     "duration": 0.042606,
     "end_time": "2023-12-19T20:07:57.345333",
     "exception": false,
     "start_time": "2023-12-19T20:07:57.302727",
     "status": "completed"
    },
    "tags": []
   },
   "source": [
    "### Balacing the lables using SMOTE"
   ]
  },
  {
   "cell_type": "code",
   "execution_count": 23,
   "metadata": {
    "execution": {
     "iopub.execute_input": "2023-12-19T20:07:57.440727Z",
     "iopub.status.busy": "2023-12-19T20:07:57.439844Z",
     "iopub.status.idle": "2023-12-19T20:07:57.559830Z",
     "shell.execute_reply": "2023-12-19T20:07:57.559111Z",
     "shell.execute_reply.started": "2023-12-19T19:22:29.850146Z"
    },
    "papermill": {
     "duration": 0.170087,
     "end_time": "2023-12-19T20:07:57.559982",
     "exception": false,
     "start_time": "2023-12-19T20:07:57.389895",
     "status": "completed"
    },
    "tags": []
   },
   "outputs": [
    {
     "name": "stdout",
     "output_type": "stream",
     "text": [
      "Before Upsampling:-\n",
      "Counter({0: 39, 1: 15})\n",
      "After Upsampling:-\n",
      "Counter({0: 39, 1: 39})\n"
     ]
    }
   ],
   "source": [
    "from sklearn.utils import resample\n",
    "from collections import Counter\n",
    "\n",
    "print(\"Before Upsampling:-\")\n",
    "print(Counter(y_train))\n",
    "\n",
    "\n",
    "# Let's use SMOTE to oversample\n",
    "from imblearn.over_sampling import SMOTE\n",
    "oversample = SMOTE()\n",
    "X_train_ov, y_train_ov = oversample.fit_resample(X_train_pca,y_train)\n",
    "\n",
    "print(\"After Upsampling:-\")\n",
    "print(Counter(y_train_ov))"
   ]
  },
  {
   "cell_type": "markdown",
   "metadata": {
    "papermill": {
     "duration": 0.042757,
     "end_time": "2023-12-19T20:07:57.646300",
     "exception": false,
     "start_time": "2023-12-19T20:07:57.603543",
     "status": "completed"
    },
    "tags": []
   },
   "source": [
    "### Hyperprameter optimization for SVM"
   ]
  },
  {
   "cell_type": "code",
   "execution_count": 24,
   "metadata": {
    "execution": {
     "iopub.execute_input": "2023-12-19T20:07:57.743523Z",
     "iopub.status.busy": "2023-12-19T20:07:57.742749Z",
     "iopub.status.idle": "2023-12-19T20:08:00.202041Z",
     "shell.execute_reply": "2023-12-19T20:08:00.202613Z",
     "shell.execute_reply.started": "2023-12-19T19:22:29.864704Z"
    },
    "papermill": {
     "duration": 2.513517,
     "end_time": "2023-12-19T20:08:00.202807",
     "exception": false,
     "start_time": "2023-12-19T20:07:57.689290",
     "status": "completed"
    },
    "tags": []
   },
   "outputs": [
    {
     "name": "stdout",
     "output_type": "stream",
     "text": [
      "Fitting 5 folds for each of 40 candidates, totalling 200 fits\n"
     ]
    },
    {
     "name": "stderr",
     "output_type": "stream",
     "text": [
      "[Parallel(n_jobs=-1)]: Using backend LokyBackend with 4 concurrent workers.\n",
      "[Parallel(n_jobs=-1)]: Done  68 tasks      | elapsed:    2.2s\n",
      "[Parallel(n_jobs=-1)]: Done 200 out of 200 | elapsed:    2.4s finished\n"
     ]
    },
    {
     "data": {
      "text/plain": [
       "SVC(C=1, kernel='linear')"
      ]
     },
     "execution_count": 24,
     "metadata": {},
     "output_type": "execute_result"
    }
   ],
   "source": [
    "# do a grid search\n",
    "svc_params = [{'C': [1, 10, 100, 1000], 'kernel': ['linear']},\n",
    "              {'C': [1, 10, 100, 1000], 'kernel': ['rbf'], 'gamma': [0.1, 0.2, 0.3, 0.4, 0.5, 0.6, 0.7, 0.8, 0.9]}]\n",
    "\n",
    "search = GridSearchCV(SVC(), svc_params, n_jobs=-1, verbose=1)\n",
    "search.fit(X_train_ov, y_train_ov)\n",
    "\n",
    "best_accuracy = search.best_score_ #to get best score\n",
    "best_parameters = search.best_params_ #to get best parameters\n",
    "# select best svc\n",
    "best_svc = search.best_estimator_\n",
    "best_svc"
   ]
  },
  {
   "cell_type": "code",
   "execution_count": 25,
   "metadata": {
    "execution": {
     "iopub.execute_input": "2023-12-19T20:08:00.296290Z",
     "iopub.status.busy": "2023-12-19T20:08:00.295543Z",
     "iopub.status.idle": "2023-12-19T20:08:00.658330Z",
     "shell.execute_reply": "2023-12-19T20:08:00.657687Z",
     "shell.execute_reply.started": "2023-12-19T19:22:32.538462Z"
    },
    "papermill": {
     "duration": 0.410924,
     "end_time": "2023-12-19T20:08:00.658478",
     "exception": false,
     "start_time": "2023-12-19T20:08:00.247554",
     "status": "completed"
    },
    "tags": []
   },
   "outputs": [
    {
     "name": "stdout",
     "output_type": "stream",
     "text": [
      "The accuracy of SVM is 0.7777777777777778\n",
      "\n",
      "Classification report :\n",
      "               precision    recall  f1-score   support\n",
      "\n",
      "           0       0.67      1.00      0.80         8\n",
      "           1       1.00      0.60      0.75        10\n",
      "\n",
      "    accuracy                           0.78        18\n",
      "   macro avg       0.83      0.80      0.77        18\n",
      "weighted avg       0.85      0.78      0.77        18\n",
      "\n"
     ]
    },
    {
     "data": {
      "text/plain": [
       "Text(0.5, 1.0, 'ROC - CURVE & AREA UNDER CURVE')"
      ]
     },
     "execution_count": 25,
     "metadata": {},
     "output_type": "execute_result"
    },
    {
     "data": {
      "image/png": "[encoded data removed]",
      "text/plain": [
       "<Figure size 936x720 with 3 Axes>"
      ]
     },
     "metadata": {
      "needs_background": "light"
     },
     "output_type": "display_data"
    }
   ],
   "source": [
    "#build SVM model with best parameters\n",
    "svc_model = SVC(C=1, kernel='linear',probability=True)\n",
    "\n",
    "svc_model.fit(X_train_ov, y_train_ov)\n",
    "\n",
    "prediction=svc_model.predict(X_test_pca)\n",
    "\n",
    "acc_svc = accuracy_score(prediction,y_test)\n",
    "print('The accuracy of SVM is', acc_svc)\n",
    "print (\"\\nClassification report :\\n\",(classification_report(y_test,prediction)))\n",
    "\n",
    "#Confusion matrix\n",
    "plt.figure(figsize=(13,10))\n",
    "plt.subplot(221)\n",
    "sns.heatmap(confusion_matrix(y_test,prediction),annot=True, cmap='Greens', fmt = \"d\",linecolor=\"k\",linewidths=3)\n",
    "plt.title(\"CONFUSION MATRIX\",fontsize=20)\n",
    "\n",
    "#ROC curve and Area under the curve plotting\n",
    "predicting_probabilites = svc_model.predict_proba(X_test_pca)[:,1]\n",
    "fpr,tpr,thresholds = roc_curve(y_test,predicting_probabilites)\n",
    "plt.subplot(222)\n",
    "plt.plot(fpr,tpr,label = (\"Area_under the curve :\",auc(fpr,tpr)),color = \"r\")\n",
    "plt.plot([1,0],[1,0],linestyle = \"dashed\",color =\"k\")\n",
    "plt.legend(loc = \"best\")\n",
    "plt.title(\"ROC - CURVE & AREA UNDER CURVE\",fontsize=20)"
   ]
  },
  {
   "cell_type": "markdown",
   "metadata": {
    "papermill": {
     "duration": 0.046521,
     "end_time": "2023-12-19T20:08:00.752229",
     "exception": false,
     "start_time": "2023-12-19T20:08:00.705708",
     "status": "completed"
    },
    "tags": []
   },
   "source": [
    "### Hyperprameter optimization for KNN"
   ]
  },
  {
   "cell_type": "code",
   "execution_count": 26,
   "metadata": {
    "execution": {
     "iopub.execute_input": "2023-12-19T20:08:00.854239Z",
     "iopub.status.busy": "2023-12-19T20:08:00.853135Z",
     "iopub.status.idle": "2023-12-19T20:08:02.226510Z",
     "shell.execute_reply": "2023-12-19T20:08:02.227080Z",
     "shell.execute_reply.started": "2023-12-19T19:22:32.958878Z"
    },
    "papermill": {
     "duration": 1.428745,
     "end_time": "2023-12-19T20:08:02.227250",
     "exception": false,
     "start_time": "2023-12-19T20:08:00.798505",
     "status": "completed"
    },
    "tags": []
   },
   "outputs": [
    {
     "name": "stdout",
     "output_type": "stream",
     "text": [
      "Fitting 5 folds for each of 216 candidates, totalling 1080 fits\n"
     ]
    },
    {
     "name": "stderr",
     "output_type": "stream",
     "text": [
      "[Parallel(n_jobs=-1)]: Using backend LokyBackend with 4 concurrent workers.\n",
      "[Parallel(n_jobs=-1)]: Done 312 tasks      | elapsed:    0.6s\n",
      "[Parallel(n_jobs=-1)]: Done 1080 out of 1080 | elapsed:    1.4s finished\n"
     ]
    },
    {
     "data": {
      "text/plain": [
       "KNeighborsClassifier(algorithm='ball_tree', leaf_size=1, n_neighbors=1)"
      ]
     },
     "execution_count": 26,
     "metadata": {},
     "output_type": "execute_result"
    }
   ],
   "source": [
    "knn_param = {\n",
    "    \"n_neighbors\": [i for i in range(1,30,5)],\n",
    "    \"weights\": [\"uniform\", \"distance\"],\n",
    "    \"algorithm\": [\"ball_tree\", \"kd_tree\", \"brute\"],\n",
    "    \"leaf_size\": [1, 10, 30],\n",
    "    \"p\": [1,2]\n",
    "}\n",
    "search = GridSearchCV(KNeighborsClassifier(), knn_param, n_jobs=-1, verbose=1)\n",
    "search.fit(X_train_ov, y_train_ov)\n",
    "\n",
    "best_accuracy = search.best_score_ #to get best score\n",
    "best_parameters = search.best_params_ #to get best parameters\n",
    "# select best svc\n",
    "best_knn = search.best_estimator_\n",
    "best_knn"
   ]
  },
  {
   "cell_type": "code",
   "execution_count": 27,
   "metadata": {
    "execution": {
     "iopub.execute_input": "2023-12-19T20:08:02.328510Z",
     "iopub.status.busy": "2023-12-19T20:08:02.327449Z",
     "iopub.status.idle": "2023-12-19T20:08:02.718698Z",
     "shell.execute_reply": "2023-12-19T20:08:02.719404Z",
     "shell.execute_reply.started": "2023-12-19T19:22:34.684738Z"
    },
    "papermill": {
     "duration": 0.444039,
     "end_time": "2023-12-19T20:08:02.719560",
     "exception": false,
     "start_time": "2023-12-19T20:08:02.275521",
     "status": "completed"
    },
    "tags": []
   },
   "outputs": [
    {
     "name": "stdout",
     "output_type": "stream",
     "text": [
      "The accuracy of K-NN is 0.6111111111111112\n",
      "\n",
      "Classification report :\n",
      "               precision    recall  f1-score   support\n",
      "\n",
      "           0       0.55      0.75      0.63         8\n",
      "           1       0.71      0.50      0.59        10\n",
      "\n",
      "    accuracy                           0.61        18\n",
      "   macro avg       0.63      0.62      0.61        18\n",
      "weighted avg       0.64      0.61      0.61        18\n",
      "\n"
     ]
    },
    {
     "data": {
      "text/plain": [
       "Text(0.5, 1.0, 'ROC - CURVE & AREA UNDER CURVE')"
      ]
     },
     "execution_count": 27,
     "metadata": {},
     "output_type": "execute_result"
    },
    {
     "data": {
      "image/png": "[encoded data removed]",
      "text/plain": [
       "<Figure size 936x720 with 3 Axes>"
      ]
     },
     "metadata": {
      "needs_background": "light"
     },
     "output_type": "display_data"
    }
   ],
   "source": [
    "knn_model = KNeighborsClassifier(algorithm='ball_tree', leaf_size=1, n_neighbors=6,\n",
    "                     weights='distance')\n",
    "\n",
    "knn_model.fit(X_train_ov,y_train_ov)\n",
    "prediction=knn_model.predict(X_test_pca)\n",
    "\n",
    "acc_knn = accuracy_score(prediction,y_test)\n",
    "print('The accuracy of K-NN is', acc_knn)\n",
    "print (\"\\nClassification report :\\n\",(classification_report(y_test,prediction)))\n",
    "\n",
    "#Confusion matrix\n",
    "plt.figure(figsize=(13,10))\n",
    "plt.subplot(221)\n",
    "sns.heatmap(confusion_matrix(y_test,prediction),annot=True, cmap='Greens', fmt = \"d\",linecolor=\"k\",linewidths=3)\n",
    "plt.title(\"CONFUSION MATRIX\",fontsize=20)\n",
    "\n",
    "#ROC curve and Area under the curve plotting\n",
    "predicting_probabilites = knn_model.predict_proba(X_test_pca)[:,1]\n",
    "fpr,tpr,thresholds = roc_curve(y_test,predicting_probabilites)\n",
    "plt.subplot(222)\n",
    "plt.plot(fpr,tpr,label = (\"Area_under the curve :\",auc(fpr,tpr)),color = \"r\")\n",
    "plt.plot([1,0],[1,0],linestyle = \"dashed\",color =\"k\")\n",
    "plt.legend(loc = \"best\")\n",
    "plt.title(\"ROC - CURVE & AREA UNDER CURVE\",fontsize=20)"
   ]
  },
  {
   "cell_type": "markdown",
   "metadata": {
    "papermill": {
     "duration": 0.049884,
     "end_time": "2023-12-19T20:08:02.820457",
     "exception": false,
     "start_time": "2023-12-19T20:08:02.770573",
     "status": "completed"
    },
    "tags": []
   },
   "source": [
    "### Hyperprameter optimization for Logistic regression"
   ]
  },
  {
   "cell_type": "code",
   "execution_count": 28,
   "metadata": {
    "execution": {
     "iopub.execute_input": "2023-12-19T20:08:02.925682Z",
     "iopub.status.busy": "2023-12-19T20:08:02.924653Z",
     "iopub.status.idle": "2023-12-19T20:08:03.001111Z",
     "shell.execute_reply": "2023-12-19T20:08:03.001699Z",
     "shell.execute_reply.started": "2023-12-19T19:22:35.106854Z"
    },
    "papermill": {
     "duration": 0.130319,
     "end_time": "2023-12-19T20:08:03.001852",
     "exception": false,
     "start_time": "2023-12-19T20:08:02.871533",
     "status": "completed"
    },
    "tags": []
   },
   "outputs": [
    {
     "data": {
      "text/plain": [
       "LogisticRegression(C=0.001, solver='liblinear')"
      ]
     },
     "execution_count": 28,
     "metadata": {},
     "output_type": "execute_result"
    }
   ],
   "source": [
    "log_grid = {'C': [1e-03, 1e-2, 1e-1, 1, 10], \n",
    "                 'penalty': ['l1', 'l2']}\n",
    "\n",
    "log_model = GridSearchCV(estimator=LogisticRegression(solver='liblinear'), \n",
    "                  param_grid=log_grid, \n",
    "                  cv=3,\n",
    "                  scoring='accuracy')\n",
    "log_model.fit(X_train_ov, y_train_ov)\n",
    "\n",
    "\n",
    "best_accuracy = log_model.best_score_ #to get best score\n",
    "best_parameters = log_model.best_params_ #to get best parameters\n",
    "# select best svc\n",
    "best_lr = log_model.best_estimator_\n",
    "best_lr"
   ]
  },
  {
   "cell_type": "code",
   "execution_count": 29,
   "metadata": {
    "execution": {
     "iopub.execute_input": "2023-12-19T20:08:03.106514Z",
     "iopub.status.busy": "2023-12-19T20:08:03.105457Z",
     "iopub.status.idle": "2023-12-19T20:08:03.576197Z",
     "shell.execute_reply": "2023-12-19T20:08:03.575627Z",
     "shell.execute_reply.started": "2023-12-19T19:22:35.208729Z"
    },
    "papermill": {
     "duration": 0.523918,
     "end_time": "2023-12-19T20:08:03.576334",
     "exception": false,
     "start_time": "2023-12-19T20:08:03.052416",
     "status": "completed"
    },
    "tags": []
   },
   "outputs": [
    {
     "name": "stdout",
     "output_type": "stream",
     "text": [
      "Validation accuracy of Logistic Regression is 0.8333333333333334\n",
      "\n",
      "Classification report :\n",
      "               precision    recall  f1-score   support\n",
      "\n",
      "           0       1.00      0.62      0.77         8\n",
      "           1       0.77      1.00      0.87        10\n",
      "\n",
      "    accuracy                           0.83        18\n",
      "   macro avg       0.88      0.81      0.82        18\n",
      "weighted avg       0.87      0.83      0.82        18\n",
      "\n"
     ]
    },
    {
     "data": {
      "text/plain": [
       "Text(0.5, 1.0, 'ROC - CURVE & AREA UNDER CURVE')"
      ]
     },
     "execution_count": 29,
     "metadata": {},
     "output_type": "execute_result"
    },
    {
     "data": {
      "image/png": "[encoded data removed]",
      "text/plain": [
       "<Figure size 936x720 with 3 Axes>"
      ]
     },
     "metadata": {
      "needs_background": "light"
     },
     "output_type": "display_data"
    }
   ],
   "source": [
    "#Logistic Regression\n",
    "lr_model = LogisticRegression(C=0.001, solver='liblinear')\n",
    "\n",
    "lr_model.fit(X_train_ov,y_train_ov)\n",
    "\n",
    "prediction=lr_model.predict(X_test_pca)\n",
    "\n",
    "acc_log = accuracy_score(prediction,y_test)\n",
    "print('Validation accuracy of Logistic Regression is', acc_log)\n",
    "print (\"\\nClassification report :\\n\",(classification_report(y_test,prediction)))\n",
    "\n",
    "#Confusion matrix\n",
    "plt.figure(figsize=(13,10))\n",
    "plt.subplot(221)\n",
    "sns.heatmap(confusion_matrix(y_test,prediction),annot=True,cmap=\"Greens\",fmt = \"d\",linecolor=\"k\",linewidths=3)\n",
    "plt.title(\"CONFUSION MATRIX\",fontsize=20)\n",
    "\n",
    "#ROC curve and Area under the curve plotting\n",
    "predicting_probabilites = lr_model.predict_proba(X_test_pca)[:,1]\n",
    "fpr,tpr,thresholds = roc_curve(y_test,predicting_probabilites)\n",
    "plt.subplot(222)\n",
    "plt.plot(fpr,tpr,label = (\"Area_under the curve :\",auc(fpr,tpr)),color = \"r\")\n",
    "plt.plot([1,0],[1,0],linestyle = \"dashed\",color =\"k\")\n",
    "plt.legend(loc = \"best\")\n",
    "plt.xlabel('False Positive Rate')\n",
    "plt.ylabel('True Positive Rate')\n",
    "plt.title(\"ROC - CURVE & AREA UNDER CURVE\",fontsize=20)"
   ]
  },
  {
   "cell_type": "markdown",
   "metadata": {
    "papermill": {
     "duration": 0.052012,
     "end_time": "2023-12-19T20:08:03.679934",
     "exception": false,
     "start_time": "2023-12-19T20:08:03.627922",
     "status": "completed"
    },
    "tags": []
   },
   "source": [
    "### Hyperprameter optimization for Decision trees"
   ]
  },
  {
   "cell_type": "code",
   "execution_count": 30,
   "metadata": {
    "execution": {
     "iopub.execute_input": "2023-12-19T20:08:03.788476Z",
     "iopub.status.busy": "2023-12-19T20:08:03.787426Z",
     "iopub.status.idle": "2023-12-19T20:08:23.735084Z",
     "shell.execute_reply": "2023-12-19T20:08:23.735626Z",
     "shell.execute_reply.started": "2023-12-19T19:22:35.613640Z"
    },
    "papermill": {
     "duration": 20.004062,
     "end_time": "2023-12-19T20:08:23.735780",
     "exception": false,
     "start_time": "2023-12-19T20:08:03.731718",
     "status": "completed"
    },
    "tags": []
   },
   "outputs": [
    {
     "name": "stdout",
     "output_type": "stream",
     "text": [
      "Fitting 3 folds for each of 2940 candidates, totalling 8820 fits\n"
     ]
    },
    {
     "name": "stderr",
     "output_type": "stream",
     "text": [
      "[Parallel(n_jobs=1)]: Using backend SequentialBackend with 1 concurrent workers.\n",
      "[Parallel(n_jobs=1)]: Done 8820 out of 8820 | elapsed:   19.9s finished\n"
     ]
    },
    {
     "data": {
      "text/plain": [
       "DecisionTreeClassifier(max_depth=3, max_leaf_nodes=4, random_state=42)"
      ]
     },
     "execution_count": 30,
     "metadata": {},
     "output_type": "execute_result"
    }
   ],
   "source": [
    "params = {'max_leaf_nodes': list(range(2, 100)), 'min_samples_split': [2, 3, 4, 5, 6], 'max_depth':[3,4,5,6,7,8]}\n",
    "decision_search = GridSearchCV(DecisionTreeClassifier(random_state=42), params, verbose=1, cv=3)\n",
    "\n",
    "decision_search.fit(X_train_ov, y_train_ov)\n",
    "\n",
    "\n",
    "best_accuracy = decision_search.best_score_ #to get best score\n",
    "best_parameters = decision_search.best_params_ #to get best parameters\n",
    "# select best svc\n",
    "best_ds = decision_search.best_estimator_\n",
    "best_ds"
   ]
  },
  {
   "cell_type": "code",
   "execution_count": 31,
   "metadata": {
    "execution": {
     "iopub.execute_input": "2023-12-19T20:08:23.854029Z",
     "iopub.status.busy": "2023-12-19T20:08:23.853223Z",
     "iopub.status.idle": "2023-12-19T20:08:24.196958Z",
     "shell.execute_reply": "2023-12-19T20:08:24.196221Z",
     "shell.execute_reply.started": "2023-12-19T19:23:00.098641Z"
    },
    "papermill": {
     "duration": 0.407431,
     "end_time": "2023-12-19T20:08:24.197092",
     "exception": false,
     "start_time": "2023-12-19T20:08:23.789661",
     "status": "completed"
    },
    "tags": []
   },
   "outputs": [
    {
     "name": "stdout",
     "output_type": "stream",
     "text": [
      "Validation accuracy of Decision Tree is 0.6666666666666666\n",
      "\n",
      "Classification report :\n",
      "               precision    recall  f1-score   support\n",
      "\n",
      "           0       0.58      0.88      0.70         8\n",
      "           1       0.83      0.50      0.62        10\n",
      "\n",
      "    accuracy                           0.67        18\n",
      "   macro avg       0.71      0.69      0.66        18\n",
      "weighted avg       0.72      0.67      0.66        18\n",
      "\n"
     ]
    },
    {
     "data": {
      "text/plain": [
       "Text(0.5, 1.0, 'ROC - CURVE & AREA UNDER CURVE')"
      ]
     },
     "execution_count": 31,
     "metadata": {},
     "output_type": "execute_result"
    },
    {
     "data": {
      "image/png": "[encoded data removed]",
      "text/plain": [
       "<Figure size 936x720 with 3 Axes>"
      ]
     },
     "metadata": {
      "needs_background": "light"
     },
     "output_type": "display_data"
    }
   ],
   "source": [
    "#Decision Tree\n",
    "ds_model = DecisionTreeClassifier(max_depth=3, max_leaf_nodes=3, random_state=42)\n",
    "\n",
    "ds_model.fit(X_train_ov,y_train_ov)\n",
    "\n",
    "prediction=ds_model.predict(X_test_pca)\n",
    "\n",
    "acc_decision_tree = accuracy_score(prediction,y_test)\n",
    "print('Validation accuracy of Decision Tree is', acc_decision_tree)\n",
    "print (\"\\nClassification report :\\n\",(classification_report(y_test,prediction)))\n",
    "\n",
    "#Confusion matrix\n",
    "plt.figure(figsize=(13,10))\n",
    "plt.subplot(221)\n",
    "sns.heatmap(confusion_matrix(y_test,prediction),annot=True,cmap=\"Greens\",fmt = \"d\",linecolor=\"k\",linewidths=3)\n",
    "plt.title(\"CONFUSION MATRIX\",fontsize=20)\n",
    "\n",
    "#ROC curve and Area under the curve plotting\n",
    "predicting_probabilites = ds_model.predict_proba(X_test_pca)[:,1]\n",
    "fpr,tpr,thresholds = roc_curve(y_test,predicting_probabilites)\n",
    "plt.subplot(222)\n",
    "plt.plot(fpr,tpr,label = (\"Area_under the curve :\",auc(fpr,tpr)),color = \"r\")\n",
    "plt.plot([1,0],[1,0],linestyle = \"dashed\",color =\"k\")\n",
    "plt.legend(loc = \"best\")\n",
    "plt.xlabel('False Positive Rate')\n",
    "plt.ylabel('True Positive Rate')\n",
    "plt.title(\"ROC - CURVE & AREA UNDER CURVE\",fontsize=20)"
   ]
  },
  {
   "cell_type": "markdown",
   "metadata": {
    "papermill": {
     "duration": 0.055338,
     "end_time": "2023-12-19T20:08:24.308135",
     "exception": false,
     "start_time": "2023-12-19T20:08:24.252797",
     "status": "completed"
    },
    "tags": []
   },
   "source": [
    "### Hyperprameter optimization for Random forest"
   ]
  },
  {
   "cell_type": "code",
   "execution_count": 32,
   "metadata": {
    "execution": {
     "iopub.execute_input": "2023-12-19T20:08:24.430277Z",
     "iopub.status.busy": "2023-12-19T20:08:24.428977Z",
     "iopub.status.idle": "2023-12-19T20:12:03.456751Z",
     "shell.execute_reply": "2023-12-19T20:12:03.457316Z",
     "shell.execute_reply.started": "2023-12-19T19:23:00.515200Z"
    },
    "papermill": {
     "duration": 219.094029,
     "end_time": "2023-12-19T20:12:03.457496",
     "exception": false,
     "start_time": "2023-12-19T20:08:24.363467",
     "status": "completed"
    },
    "tags": []
   },
   "outputs": [
    {
     "data": {
      "text/plain": [
       "RandomForestClassifier(max_features=0.6, min_samples_leaf=10,\n",
       "                       min_samples_split=3, n_estimators=90)"
      ]
     },
     "execution_count": 32,
     "metadata": {},
     "output_type": "execute_result"
    }
   ],
   "source": [
    "# Hyperparameters search grid \n",
    "rf_param_grid = {'bootstrap': [False, True],\n",
    "         'n_estimators': [60, 70, 80, 90, 100],\n",
    "         'max_features': [0.6, 0.65, 0.7, 0.75, 0.8],\n",
    "         'min_samples_leaf': [8, 10, 12, 14],\n",
    "         'min_samples_split': [3, 5, 7]\n",
    "        }\n",
    "\n",
    "# Create the GridSearchCV object\n",
    "rf_search = GridSearchCV(estimator=RandomForestClassifier(), param_grid=rf_param_grid, cv=3, scoring='accuracy')\n",
    "rf_search.fit(X_train_ov, y_train_ov)\n",
    "\n",
    "best_accuracy = rf_search.best_score_ #to get best score\n",
    "best_parameters = rf_search.best_params_ #to get best parameters\n",
    "# select best svc\n",
    "best_rf = rf_search.best_estimator_\n",
    "best_rf"
   ]
  },
  {
   "cell_type": "code",
   "execution_count": 33,
   "metadata": {
    "execution": {
     "iopub.execute_input": "2023-12-19T20:12:03.574742Z",
     "iopub.status.busy": "2023-12-19T20:12:03.573669Z",
     "iopub.status.idle": "2023-12-19T20:12:04.032935Z",
     "shell.execute_reply": "2023-12-19T20:12:04.032282Z",
     "shell.execute_reply.started": "2023-12-19T19:27:55.818761Z"
    },
    "papermill": {
     "duration": 0.519205,
     "end_time": "2023-12-19T20:12:04.033067",
     "exception": false,
     "start_time": "2023-12-19T20:12:03.513862",
     "status": "completed"
    },
    "tags": []
   },
   "outputs": [
    {
     "name": "stdout",
     "output_type": "stream",
     "text": [
      "Validation accuracy of RandomForest Classifier is 0.6666666666666666\n",
      "\n",
      "Classification report :\n",
      "               precision    recall  f1-score   support\n",
      "\n",
      "           0       0.58      0.88      0.70         8\n",
      "           1       0.83      0.50      0.62        10\n",
      "\n",
      "    accuracy                           0.67        18\n",
      "   macro avg       0.71      0.69      0.66        18\n",
      "weighted avg       0.72      0.67      0.66        18\n",
      "\n"
     ]
    },
    {
     "data": {
      "text/plain": [
       "Text(0.5, 1.0, 'ROC - CURVE & AREA UNDER CURVE')"
      ]
     },
     "execution_count": 33,
     "metadata": {},
     "output_type": "execute_result"
    },
    {
     "data": {
      "image/png": "[encoded data removed]",
      "text/plain": [
       "<Figure size 936x720 with 3 Axes>"
      ]
     },
     "metadata": {
      "needs_background": "light"
     },
     "output_type": "display_data"
    }
   ],
   "source": [
    "#Random forest\n",
    "rf_model = RandomForestClassifier(bootstrap=False, max_features=0.6, min_samples_leaf=8,\n",
    "                       min_samples_split=3, n_estimators=70)\n",
    "\n",
    "rf_model.fit(X_train_ov,y_train_ov)\n",
    "\n",
    "prediction=rf_model.predict(X_test_pca)\n",
    "\n",
    "acc_random_forest = accuracy_score(prediction,y_test)\n",
    "print('Validation accuracy of RandomForest Classifier is', acc_random_forest)\n",
    "print (\"\\nClassification report :\\n\",(classification_report(y_test,prediction)))\n",
    "\n",
    "#Confusion matrix\n",
    "plt.figure(figsize=(13,10))\n",
    "plt.subplot(221)\n",
    "sns.heatmap(confusion_matrix(y_test,prediction),annot=True,cmap=\"Greens\",fmt = \"d\",linecolor=\"k\",linewidths=3)\n",
    "plt.title(\"CONFUSION MATRIX\",fontsize=20)\n",
    "\n",
    "#ROC curve and Area under the curve plotting\n",
    "predicting_probabilites = rf_model.predict_proba(X_test_pca)[:,1]\n",
    "fpr,tpr,thresholds = roc_curve(y_test,predicting_probabilites)\n",
    "plt.subplot(222)\n",
    "plt.plot(fpr,tpr,label = (\"Area_under the curve :\",auc(fpr,tpr)),color = \"r\")\n",
    "plt.plot([1,0],[1,0],linestyle = \"dashed\",color =\"k\")\n",
    "plt.legend(loc = \"best\")\n",
    "plt.xlabel('False Positive Rate')\n",
    "plt.ylabel('True Positive Rate')\n",
    "plt.title(\"ROC - CURVE & AREA UNDER CURVE\",fontsize=20)"
   ]
  },
  {
   "cell_type": "markdown",
   "metadata": {
    "papermill": {
     "duration": 0.056801,
     "end_time": "2023-12-19T20:12:04.147252",
     "exception": false,
     "start_time": "2023-12-19T20:12:04.090451",
     "status": "completed"
    },
    "tags": []
   },
   "source": [
    "### Hyperprameter optimization for XGBoost"
   ]
  },
  {
   "cell_type": "code",
   "execution_count": 34,
   "metadata": {
    "execution": {
     "iopub.execute_input": "2023-12-19T20:12:04.281373Z",
     "iopub.status.busy": "2023-12-19T20:12:04.280632Z",
     "iopub.status.idle": "2023-12-19T20:15:24.856511Z",
     "shell.execute_reply": "2023-12-19T20:15:24.857258Z",
     "shell.execute_reply.started": "2023-12-19T19:27:56.386296Z"
    },
    "papermill": {
     "duration": 200.652965,
     "end_time": "2023-12-19T20:15:24.857485",
     "exception": false,
     "start_time": "2023-12-19T20:12:04.204520",
     "status": "completed"
    },
    "tags": []
   },
   "outputs": [
    {
     "data": {
      "text/plain": [
       "XGBClassifier(base_score=0.5, booster='gbtree', colsample_bylevel=1,\n",
       "              colsample_bynode=1, colsample_bytree=1, gamma=0, gpu_id=-1,\n",
       "              importance_type='gain', interaction_constraints='',\n",
       "              learning_rate=0.05, max_delta_step=0, max_depth=3,\n",
       "              min_child_weight=1, missing=nan, monotone_constraints='()',\n",
       "              n_estimators=40, n_jobs=0, num_parallel_tree=1, random_state=0,\n",
       "              reg_alpha=0, reg_lambda=1, scale_pos_weight=1, subsample=1,\n",
       "              tree_method='exact', validate_parameters=1, verbosity=None)"
      ]
     },
     "execution_count": 34,
     "metadata": {},
     "output_type": "execute_result"
    }
   ],
   "source": [
    "xgb_grid_params = {'max_depth': [3, 4, 5, 6, 7, 8, 10, 12],\n",
    "               'min_child_weight': [1, 2, 4, 6, 8, 10, 12, 15],\n",
    "               'n_estimators': [40, 50, 60, 70, 80, 90, 100, 110, 120, 130],\n",
    "               'learning_rate': [0.001, 0.01, 0.05, 0.1, 0.2, 0.3]}\n",
    "\n",
    "# Create the GridSearchCV object\n",
    "xgb_search = GridSearchCV(estimator=xgb.XGBClassifier(), param_grid=xgb_grid_params, cv=3, scoring='accuracy')\n",
    "xgb_search.fit(X_train_ov, y_train_ov)\n",
    "\n",
    "best_accuracy = xgb_search.best_score_ #to get best score\n",
    "best_parameters = xgb_search.best_params_ #to get best parameters\n",
    "# select best svc\n",
    "best_xgb = xgb_search.best_estimator_\n",
    "best_xgb"
   ]
  },
  {
   "cell_type": "code",
   "execution_count": 35,
   "metadata": {
    "execution": {
     "iopub.execute_input": "2023-12-19T20:15:25.019251Z",
     "iopub.status.busy": "2023-12-19T20:15:25.018224Z",
     "iopub.status.idle": "2023-12-19T20:15:25.481165Z",
     "shell.execute_reply": "2023-12-19T20:15:25.480465Z",
     "shell.execute_reply.started": "2023-12-19T19:31:26.135424Z"
    },
    "papermill": {
     "duration": 0.538702,
     "end_time": "2023-12-19T20:15:25.481291",
     "exception": false,
     "start_time": "2023-12-19T20:15:24.942589",
     "status": "completed"
    },
    "tags": []
   },
   "outputs": [
    {
     "name": "stdout",
     "output_type": "stream",
     "text": [
      "Validation accuracy of XG Boost is 0.6666666666666666\n",
      "\n",
      "Classification report :\n",
      "               precision    recall  f1-score   support\n",
      "\n",
      "           0       0.58      0.88      0.70         8\n",
      "           1       0.83      0.50      0.62        10\n",
      "\n",
      "    accuracy                           0.67        18\n",
      "   macro avg       0.71      0.69      0.66        18\n",
      "weighted avg       0.72      0.67      0.66        18\n",
      "\n"
     ]
    },
    {
     "data": {
      "text/plain": [
       "Text(0.5, 1.0, 'ROC - CURVE & AREA UNDER CURVE')"
      ]
     },
     "execution_count": 35,
     "metadata": {},
     "output_type": "execute_result"
    },
    {
     "data": {
      "image/png": "[encoded data removed]",
      "text/plain": [
       "<Figure size 936x720 with 3 Axes>"
      ]
     },
     "metadata": {
      "needs_background": "light"
     },
     "output_type": "display_data"
    }
   ],
   "source": [
    "#XB Boost\n",
    "xgb_model = xgb.XGBClassifier(base_score=0.5, booster='gbtree', colsample_bylevel=1,\n",
    "              colsample_bynode=1, colsample_bytree=1, gamma=0, gpu_id=-1,\n",
    "              importance_type='gain', interaction_constraints='',\n",
    "              learning_rate=0.001, max_delta_step=0, max_depth=3,\n",
    "              min_child_weight=1, monotone_constraints='()',\n",
    "              n_estimators=40, n_jobs=0, num_parallel_tree=1, random_state=0,\n",
    "              reg_alpha=0, reg_lambda=1, scale_pos_weight=1, subsample=1,\n",
    "              tree_method='exact', validate_parameters=1, verbosity=None)\n",
    "\n",
    "xgb_model.fit(X_train_ov,y_train_ov)\n",
    "\n",
    "prediction=xgb_model.predict(X_test_pca)\n",
    "\n",
    "acc_xgb = accuracy_score(prediction,y_test)\n",
    "print('Validation accuracy of XG Boost is', acc_xgb)\n",
    "print (\"\\nClassification report :\\n\",(classification_report(y_test,prediction)))\n",
    "\n",
    "#Confusion matrix\n",
    "plt.figure(figsize=(13,10))\n",
    "plt.subplot(221)\n",
    "sns.heatmap(confusion_matrix(y_test,prediction),annot=True,cmap=\"Greens\",fmt = \"d\",linecolor=\"k\",linewidths=3)\n",
    "plt.title(\"CONFUSION MATRIX\",fontsize=20)\n",
    "\n",
    "#ROC curve and Area under the curve plotting\n",
    "predicting_probabilites = xgb_model.predict_proba(X_test_pca)[:,1]\n",
    "fpr,tpr,thresholds = roc_curve(y_test,predicting_probabilites)\n",
    "plt.subplot(222)\n",
    "plt.plot(fpr,tpr,label = (\"Area_under the curve :\",auc(fpr,tpr)),color = \"r\")\n",
    "plt.plot([1,0],[1,0],linestyle = \"dashed\",color =\"k\")\n",
    "plt.legend(loc = \"best\")\n",
    "plt.xlabel('False Positive Rate')\n",
    "plt.ylabel('True Positive Rate')\n",
    "plt.title(\"ROC - CURVE & AREA UNDER CURVE\",fontsize=20)"
   ]
  },
  {
   "cell_type": "code",
   "execution_count": 36,
   "metadata": {
    "execution": {
     "iopub.execute_input": "2023-12-19T20:15:25.613818Z",
     "iopub.status.busy": "2023-12-19T20:15:25.613114Z",
     "iopub.status.idle": "2023-12-19T20:15:25.971445Z",
     "shell.execute_reply": "2023-12-19T20:15:25.970863Z",
     "shell.execute_reply.started": "2023-12-19T19:31:26.636993Z"
    },
    "papermill": {
     "duration": 0.429829,
     "end_time": "2023-12-19T20:15:25.971577",
     "exception": false,
     "start_time": "2023-12-19T20:15:25.541748",
     "status": "completed"
    },
    "tags": []
   },
   "outputs": [
    {
     "name": "stdout",
     "output_type": "stream",
     "text": [
      "Validation accuracy of Naive Bayes is 0.9444444444444444\n",
      "\n",
      "Classification report :\n",
      "               precision    recall  f1-score   support\n",
      "\n",
      "           0       0.89      1.00      0.94         8\n",
      "           1       1.00      0.90      0.95        10\n",
      "\n",
      "    accuracy                           0.94        18\n",
      "   macro avg       0.94      0.95      0.94        18\n",
      "weighted avg       0.95      0.94      0.94        18\n",
      "\n"
     ]
    },
    {
     "data": {
      "text/plain": [
       "Text(0.5, 1.0, 'ROC - CURVE & AREA UNDER CURVE')"
      ]
     },
     "execution_count": 36,
     "metadata": {},
     "output_type": "execute_result"
    },
    {
     "data": {
      "image/png": "[encoded data removed]",
      "text/plain": [
       "<Figure size 936x720 with 3 Axes>"
      ]
     },
     "metadata": {
      "needs_background": "light"
     },
     "output_type": "display_data"
    }
   ],
   "source": [
    "from sklearn.naive_bayes import GaussianNB\n",
    "#In case of naive Bayes, there isn't a hyper-parameter to tune, so you have nothing to grid search over.\n",
    "nb_model = GaussianNB()\n",
    "\n",
    "nb_model.fit(X_train_ov,y_train_ov)\n",
    "\n",
    "prediction=nb_model.predict(X_test_pca)\n",
    "\n",
    "acc_nb = accuracy_score(prediction,y_test)\n",
    "print('Validation accuracy of Naive Bayes is', acc_nb)\n",
    "print (\"\\nClassification report :\\n\",(classification_report(y_test,prediction)))\n",
    "\n",
    "#Confusion matrix\n",
    "plt.figure(figsize=(13,10))\n",
    "plt.subplot(221)\n",
    "sns.heatmap(confusion_matrix(y_test,prediction),annot=True,cmap=\"Greens\",fmt = \"d\",linecolor=\"k\",linewidths=3)\n",
    "plt.title(\"CONFUSION MATRIX\",fontsize=20)\n",
    "\n",
    "#ROC curve and Area under the curve plotting\n",
    "predicting_probabilites = nb_model.predict_proba(X_test_pca)[:,1]\n",
    "fpr,tpr,thresholds = roc_curve(y_test,predicting_probabilites)\n",
    "plt.subplot(222)\n",
    "plt.plot(fpr,tpr,label = (\"Area_under the curve :\",auc(fpr,tpr)),color = \"r\")\n",
    "plt.plot([1,0],[1,0],linestyle = \"dashed\",color =\"k\")\n",
    "plt.legend(loc = \"best\")\n",
    "plt.xlabel('False Positive Rate')\n",
    "plt.ylabel('True Positive Rate')\n",
    "plt.title(\"ROC - CURVE & AREA UNDER CURVE\",fontsize=20)"
   ]
  },
  {
   "cell_type": "markdown",
   "metadata": {
    "papermill": {
     "duration": 0.062677,
     "end_time": "2023-12-19T20:15:26.096629",
     "exception": false,
     "start_time": "2023-12-19T20:15:26.033952",
     "status": "completed"
    },
    "tags": []
   },
   "source": [
    "### Model evaluation"
   ]
  },
  {
   "cell_type": "code",
   "execution_count": 37,
   "metadata": {
    "execution": {
     "iopub.execute_input": "2023-12-19T20:15:26.234729Z",
     "iopub.status.busy": "2023-12-19T20:15:26.233654Z",
     "iopub.status.idle": "2023-12-19T20:15:26.237146Z",
     "shell.execute_reply": "2023-12-19T20:15:26.237782Z",
     "shell.execute_reply.started": "2023-12-19T19:31:27.062424Z"
    },
    "papermill": {
     "duration": 0.079037,
     "end_time": "2023-12-19T20:15:26.237962",
     "exception": false,
     "start_time": "2023-12-19T20:15:26.158925",
     "status": "completed"
    },
    "tags": []
   },
   "outputs": [
    {
     "data": {
      "text/html": [
       "<div>\n",
       "<style scoped>\n",
       "    .dataframe tbody tr th:only-of-type {\n",
       "        vertical-align: middle;\n",
       "    }\n",
       "\n",
       "    .dataframe tbody tr th {\n",
       "        vertical-align: top;\n",
       "    }\n",
       "\n",
       "    .dataframe thead th {\n",
       "        text-align: right;\n",
       "    }\n",
       "</style>\n",
       "<table border=\"1\" class=\"dataframe\">\n",
       "  <thead>\n",
       "    <tr style=\"text-align: right;\">\n",
       "      <th></th>\n",
       "      <th>Model</th>\n",
       "      <th>Score</th>\n",
       "    </tr>\n",
       "  </thead>\n",
       "  <tbody>\n",
       "    <tr>\n",
       "      <th>6</th>\n",
       "      <td>Naive Bayes</td>\n",
       "      <td>0.944444</td>\n",
       "    </tr>\n",
       "    <tr>\n",
       "      <th>2</th>\n",
       "      <td>Logistic Regression</td>\n",
       "      <td>0.833333</td>\n",
       "    </tr>\n",
       "    <tr>\n",
       "      <th>0</th>\n",
       "      <td>Support Vector Machines</td>\n",
       "      <td>0.777778</td>\n",
       "    </tr>\n",
       "    <tr>\n",
       "      <th>3</th>\n",
       "      <td>Decision Tree</td>\n",
       "      <td>0.666667</td>\n",
       "    </tr>\n",
       "    <tr>\n",
       "      <th>4</th>\n",
       "      <td>Random Forest</td>\n",
       "      <td>0.666667</td>\n",
       "    </tr>\n",
       "    <tr>\n",
       "      <th>5</th>\n",
       "      <td>XG Boost</td>\n",
       "      <td>0.666667</td>\n",
       "    </tr>\n",
       "    <tr>\n",
       "      <th>1</th>\n",
       "      <td>KNN</td>\n",
       "      <td>0.611111</td>\n",
       "    </tr>\n",
       "  </tbody>\n",
       "</table>\n",
       "</div>"
      ],
      "text/plain": [
       "                     Model     Score\n",
       "6              Naive Bayes  0.944444\n",
       "2      Logistic Regression  0.833333\n",
       "0  Support Vector Machines  0.777778\n",
       "3            Decision Tree  0.666667\n",
       "4            Random Forest  0.666667\n",
       "5                 XG Boost  0.666667\n",
       "1                      KNN  0.611111"
      ]
     },
     "execution_count": 37,
     "metadata": {},
     "output_type": "execute_result"
    }
   ],
   "source": [
    "models = pd.DataFrame({\n",
    "    'Model': ['Support Vector Machines', 'KNN', 'Logistic Regression', 'Decision Tree',\n",
    "              'Random Forest', 'XG Boost', 'Naive Bayes'],\n",
    "\n",
    "    'Score': [acc_svc, acc_knn, acc_log, acc_decision_tree, \n",
    "              acc_random_forest, acc_xgb, acc_nb]})\n",
    "models.sort_values(by='Score', ascending=False)"
   ]
  },
  {
   "cell_type": "code",
   "execution_count": null,
   "metadata": {
    "papermill": {
     "duration": 0.063142,
     "end_time": "2023-12-19T20:15:26.362997",
     "exception": false,
     "start_time": "2023-12-19T20:15:26.299855",
     "status": "completed"
    },
    "tags": []
   },
   "outputs": [],
   "source": []
  }
 ],
 "metadata": {
  "kaggle": {
   "accelerator": "none",
   "dataSources": [
    {
     "datasetId": 1868,
     "sourceId": 3249,
     "sourceType": "datasetVersion"
    }
   ],
   "dockerImageVersionId": 30042,
   "isGpuEnabled": false,
   "isInternetEnabled": true,
   "language": "python",
   "sourceType": "notebook"
  },
  "kernelspec": {
   "display_name": "Python 3",
   "language": "python",
   "name": "python3"
  },
  "language_info": {
   "codemirror_mode": {
    "name": "ipython",
    "version": 3
   },
   "file_extension": ".py",
   "mimetype": "text/x-python",
   "name": "python",
   "nbconvert_exporter": "python",
   "pygments_lexer": "ipython3",
   "version": "3.7.6"
  },
  "papermill": {
   "duration": 459.676623,
   "end_time": "2023-12-19T20:15:26.533171",
   "environment_variables": {},
   "exception": null,
   "input_path": "__notebook__.ipynb",
   "output_path": "__notebook__.ipynb",
   "parameters": {},
   "start_time": "2023-12-19T20:07:46.856548",
   "version": "2.1.0"
  }
 },
 "nbformat": 4,
 "nbformat_minor": 4
}
